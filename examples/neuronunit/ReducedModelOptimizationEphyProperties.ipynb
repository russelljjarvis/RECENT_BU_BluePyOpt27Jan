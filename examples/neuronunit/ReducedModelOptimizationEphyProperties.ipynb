{
 "cells": [
  {
   "cell_type": "code",
   "execution_count": 1,
   "metadata": {},
   "outputs": [
    {
     "name": "stderr",
     "output_type": "stream",
     "text": [
      "/home/user/anaconda3/lib/python3.7/site-packages/cerberus/validator.py:1609: UserWarning: No validation schema is defined for the arguments of rule 'not_zero_obs_zscore'\n",
      "  \"'%s'\" % method_name.split('_', 2)[-1]\n",
      "test\n"
     ]
    }
   ],
   "source": [
    "import pandas as pd\n",
    "from neuronunit.optimization.optimization_management import public_opt\n",
    "from sciunit.scores import RelativeDifferenceScore, ZScore\n",
    "from sciunit.utils import config_set, config_get\n",
    "config_set('PREVALIDATE', False)\n",
    "from neuronunit.allenapi.allen_data_driven import make_allen_hard_coded_limited, make_allen_hard_coded_complete\n",
    "import warnings\n",
    "from neuronunit.optimization.model_parameters import BPO_PARAMS\n",
    "warnings.filterwarnings(\"ignore\")\n",
    "[allen_suite_623960880,_,_,_,_,df] = make_allen_hard_coded_complete()"
   ]
  },
  {
   "cell_type": "markdown",
   "metadata": {},
   "source": [
    "# In this notebook\n",
    "we fit Izhikevich and Adaptive Exponential Integrate and fire models to electrophysiology observations \n",
    "from the Allen Brain, using BluePyOpt and NeuronUnit.\n",
    "\n",
    "* Immediately Below \n",
    "is a list of some of the observations we will use:"
   ]
  },
  {
   "cell_type": "code",
   "execution_count": 2,
   "metadata": {},
   "outputs": [
    {
     "data": {
      "text/html": [
       "<div>\n",
       "<style scoped>\n",
       "    .dataframe tbody tr th:only-of-type {\n",
       "        vertical-align: middle;\n",
       "    }\n",
       "\n",
       "    .dataframe tbody tr th {\n",
       "        vertical-align: top;\n",
       "    }\n",
       "\n",
       "    .dataframe thead th {\n",
       "        text-align: right;\n",
       "    }\n",
       "</style>\n",
       "<table border=\"1\" class=\"dataframe\">\n",
       "  <thead>\n",
       "    <tr style=\"text-align: right;\">\n",
       "      <th></th>\n",
       "      <th>TimeConstantTest</th>\n",
       "      <th>name</th>\n",
       "      <th>RestingPotentialTest</th>\n",
       "      <th>InputResistanceTest</th>\n",
       "      <th>RheobaseTest</th>\n",
       "    </tr>\n",
       "  </thead>\n",
       "  <tbody>\n",
       "    <tr>\n",
       "      <th>623960880</th>\n",
       "      <td>23.8 ms</td>\n",
       "      <td>623960880</td>\n",
       "      <td>-65.1 mV</td>\n",
       "      <td>241.0 megaohm</td>\n",
       "      <td>70.0 pA</td>\n",
       "    </tr>\n",
       "    <tr>\n",
       "      <th>623893177</th>\n",
       "      <td>27.8 ms</td>\n",
       "      <td>623893177</td>\n",
       "      <td>-77.0 mV</td>\n",
       "      <td>136.0 megaohm</td>\n",
       "      <td>190.0 pA</td>\n",
       "    </tr>\n",
       "    <tr>\n",
       "      <th>471819401</th>\n",
       "      <td>13.8 ms</td>\n",
       "      <td>471819401</td>\n",
       "      <td>-77.5 mV</td>\n",
       "      <td>132.0 megaohm</td>\n",
       "      <td>190.0 pA</td>\n",
       "    </tr>\n",
       "    <tr>\n",
       "      <th>482493761</th>\n",
       "      <td>24.4 ms</td>\n",
       "      <td>482493761</td>\n",
       "      <td>-71.6 mV</td>\n",
       "      <td>132.0 megaohm</td>\n",
       "      <td>70.0 pA</td>\n",
       "    </tr>\n",
       "  </tbody>\n",
       "</table>\n",
       "</div>"
      ],
      "text/plain": [
       "          TimeConstantTest       name RestingPotentialTest  \\\n",
       "623960880          23.8 ms  623960880             -65.1 mV   \n",
       "623893177          27.8 ms  623893177             -77.0 mV   \n",
       "471819401          13.8 ms  471819401             -77.5 mV   \n",
       "482493761          24.4 ms  482493761             -71.6 mV   \n",
       "\n",
       "          InputResistanceTest RheobaseTest  \n",
       "623960880       241.0 megaohm      70.0 pA  \n",
       "623893177       136.0 megaohm     190.0 pA  \n",
       "471819401       132.0 megaohm     190.0 pA  \n",
       "482493761       132.0 megaohm      70.0 pA  "
      ]
     },
     "execution_count": 2,
     "metadata": {},
     "output_type": "execute_result"
    }
   ],
   "source": [
    "df"
   ]
  },
  {
   "cell_type": "markdown",
   "metadata": {},
   "source": [
    "Allen Specimen ID: 471819401\n",
    "Four data fitting constraints:\n",
    "* RheobaseTest\t\n",
    "* TimeConstantTest\t\n",
    "* RestingPotentialTest\t\n",
    "* InputResistanceTest\t\n",
    "# Model AdExp"
   ]
  },
  {
   "cell_type": "code",
   "execution_count": null,
   "metadata": {},
   "outputs": [
    {
     "name": "stderr",
     "output_type": "stream",
     "text": [
      "gen\tnevals\tavg    \tstd    \tmin    \tmax \n",
      "1  \t100   \t1528.25\t1520.98\t12.4622\t4000\n"
     ]
    },
    {
     "data": {
      "application/vnd.jupyter.widget-view+json": {
       "model_id": "03f39cda1cae4650821a95b08baf265c",
       "version_major": 2,
       "version_minor": 0
      },
      "text/plain": [
       "HBox(children=(FloatProgress(value=0.0, max=300.0), HTML(value='')))"
      ]
     },
     "metadata": {},
     "output_type": "display_data"
    },
    {
     "name": "stderr",
     "output_type": "stream",
     "text": [
      "2  \t45    \t1490.93\t1481.37\t12.4622\t4000\n",
      "3  \t6     \t426.875\t489.645\t12.4622\t1010.18\n",
      "4  \t11    \t571.687\t493.039\t12.4622\t1009.25\n",
      "5  \t10    \t668.375\t470.728\t12.4622\t1009.62\n",
      "6  \t9     \t353.069\t470.693\t12.4622\t1008.29\n",
      "7  \t12    \t594.752\t489.142\t7.58842\t1009.33\n",
      "8  \t12    \t278.79 \t440.966\t7.58842\t1009.46\n",
      "9  \t8     \t253.804\t427.517\t7.58842\t1008.26\n",
      "10 \t9     \t325.699\t463.286\t7.58842\t1008.23\n",
      "11 \t6     \t277.489\t441.083\t7.58842\t1008.23\n",
      "12 \t6     \t422.241\t490.839\t7.58842\t1007.72\n",
      "13 \t9     \t251.46 \t427.893\t7.46956\t1005.43\n",
      "14 \t8     \t445.977\t494.475\t7.46956\t1008.04\n",
      "15 \t9     \t300.464\t452.9  \t7.12105\t1005.77\n",
      "16 \t6     \t519.263\t497.486\t7.12105\t1006.76\n",
      "17 \t5     \t81.901 \t259.394\t7.12105\t1006.77\n",
      "18 \t8     \t81.0754\t260.121\t7.10375\t1007.51\n",
      "19 \t5     \t105.818\t296.049\t7.10375\t1006.52\n",
      "20 \t7     \t153.991\t352.285\t7.10375\t1006.08\n",
      "21 \t13    \t154.692\t352.296\t7.10375\t1007.05\n",
      "22 \t9     \t275.449\t441.729\t7.10375\t1007.06\n",
      "23 \t2     \t421.713\t490.822\t7.10375\t1005.66\n",
      "24 \t5     \t348.357\t473.026\t7.10375\t1005.54\n",
      "25 \t9     \t105.224\t295.59 \t6.93804\t1005.11\n",
      "26 \t8     \t299.418\t453.132\t6.93804\t1005.11\n",
      "27 \t10    \t129.736\t325.836\t6.93804\t1004.47\n",
      "28 \t4     \t201.735\t394.369\t6.65704\t1003.64\n",
      "29 \t9     \t104.875\t295.338\t6.47967\t1003.92\n",
      "30 \t10    \t129.116\t325.988\t6.47967\t1004.49\n",
      "31 \t4     \t104.319\t295.383\t6.47967\t1003.58\n",
      "32 \t16    \t275.067\t441.406\t6.47967\t1005.17\n",
      "33 \t10    \t226.449\t412.19 \t6.47967\t1004.9 \n",
      "34 \t9     \t250.526\t428.389\t6.47967\t1011.88\n",
      "35 \t10    \t201.975\t395.247\t6.28829\t1007.04\n",
      "36 \t3     \t153.393\t352.166\t6.28829\t1004.13\n",
      "37 \t4     \t226.258\t412.248\t6.28829\t1003.74\n",
      "38 \t12    \t177.676\t374.825\t6.28829\t1004.95\n",
      "39 \t8     \t299.318\t452.916\t6.28829\t1004.74\n",
      "40 \t12    \t421.013\t490.59 \t6.28829\t1007.1 \n",
      "41 \t8     \t614.966\t485.761\t6.28829\t1007.72\n",
      "42 \t8     \t396.683\t486.279\t6.28829\t1008.25\n",
      "43 \t6     \t444.517\t493.982\t6.28829\t1005.03\n",
      "44 \t16    \t517.798\t498.081\t6.28829\t1005.03\n",
      "45 \t9     \t737.01 \t882.143\t6.22907\t4000   \n",
      "46 \t13    \t371.942\t480.074\t5.62581\t1006.2 \n",
      "47 \t12    \t445.006\t494.81 \t5.62581\t1008.13\n",
      "48 \t12    \t396.69 \t485.912\t5.62581\t1006.17\n",
      "49 \t8     \t153.489\t352.003\t5.62581\t1004.44\n",
      "50 \t13    \t323.674\t463.366\t5.62581\t1006.24\n",
      "51 \t10    \t371.728\t479.585\t5.62581\t1004.45\n",
      "52 \t8     \t274.479\t441.487\t4.41933\t1004.44\n",
      "53 \t8     \t299.012\t453.382\t4.41933\t1005.49\n",
      "54 \t7     \t225.892\t412.694\t4.41933\t1004.35\n",
      "55 \t7     \t128.982\t326.041\t4.41933\t1004.26\n",
      "56 \t9     \t128.454\t326.718\t4.41933\t1008.57\n",
      "57 \t10    \t103.816\t296.026\t4.41933\t1008.21\n",
      "58 \t4     \t128.641\t325.616\t4.41933\t1002.38\n",
      "59 \t8     \t321.906\t463.75 \t4.41933\t1004.54\n",
      "60 \t5     \t152.47 \t352.183\t4.41933\t1004.54\n",
      "61 \t8     \t298.285\t453.438\t4.41933\t1004.54\n",
      "62 \t8     \t444.388\t494.498\t4.41933\t1009.36\n",
      "63 \t10    \t250.811\t427.666\t4.41933\t1007.68\n",
      "64 \t7     \t274.93 \t441.426\t4.41933\t1006.82\n",
      "65 \t6     \t274.559\t441.392\t4.41933\t1003.53\n",
      "66 \t7     \t225.283\t412.684\t4.41933\t1004.2 \n",
      "67 \t14    \t225.502\t412.548\t4.41933\t1003.53\n",
      "68 \t4     \t79.4105\t259.588\t4.41933\t1003.3 \n",
      "69 \t9     \t176.458\t375.062\t4.41933\t1004.38\n",
      "70 \t7     \t273.136\t441.453\t4.35664\t1003.64\n",
      "71 \t10    \t248.531\t428.264\t3.91023\t1003.69\n",
      "72 \t10    \t345.638\t473.023\t3.91023\t1003.64\n",
      "73 \t12    \t345.795\t472.828\t3.48203\t1003.64\n",
      "74 \t16    \t491.053\t498.463\t3.48203\t1002.3 \n",
      "75 \t7     \t77.1962\t259.722\t3.00217\t1002.3 \n",
      "76 \t8     \t199.002\t395.541\t3.00217\t1003.52\n",
      "77 \t7     \t417.708\t491.478\t3.00217\t1002.67\n",
      "78 \t4     \t514.959\t498.676\t3.00217\t1002.48\n",
      "79 \t3     \t271.603\t442.308\t3.00217\t1004.13\n",
      "80 \t3     \t320.23 \t464.46 \t3.00217\t1004.9 \n",
      "81 \t8     \t442.828\t732.982\t3.00217\t4000   \n",
      "82 \t8     \t101.626\t296.096\t3.00217\t1002.44\n",
      "83 \t6     \t126.094\t326.391\t3.00217\t1004.32\n",
      "84 \t10    \t173.995\t375.259\t3.00217\t1001.13\n",
      "85 \t4     \t28.9071\t153.672\t3.00217\t1000.79\n",
      "86 \t6     \t149.801\t352.413\t3.00217\t1001.37\n",
      "87 \t6     \t368.891\t480.221\t2.83424\t1002.57\n",
      "88 \t4     \t417.784\t491.052\t2.83424\t1002.45\n",
      "89 \t9     \t150.091\t352.259\t2.83407\t1001.19\n",
      "90 \t4     \t77.2941\t259.498\t2.83407\t1001.13\n",
      "91 \t8     \t247.403\t428.377\t2.74193\t1006.16\n",
      "92 \t6     \t295.254\t453.801\t2.74193\t1000.72\n",
      "93 \t7     \t76.459 \t259.931\t2.74193\t1002.07\n",
      "94 \t6     \t345.037\t472.738\t2.74193\t1002.4 \n",
      "95 \t11    \t198.24 \t395.851\t2.74193\t1006.15\n",
      "96 \t11    \t442.088\t495.166\t2.72551\t1003.01\n",
      "97 \t10    \t538.931\t497.481\t2.72551\t1002.3 \n",
      "98 \t8     \t393.173\t486.744\t2.72551\t1002.31\n",
      "99 \t4     \t417.274\t491.547\t2.72551\t1002.25\n",
      "100\t8     \t344.727\t473.42 \t2.72551\t1003.06\n",
      "101\t6     \t247.052\t429.309\t2.72551\t1007.42\n",
      "102\t12    \t466.357\t498.447\t2.72551\t1003.78\n",
      "103\t10    \t222.412\t413.4  \t2.72551\t1002.31\n",
      "104\t8     \t344.541\t473.442\t2.72551\t1002.66\n",
      "105\t9     \t100.957\t296.003\t2.72551\t1001.4 \n",
      "106\t7     \t174.313\t375.344\t2.72551\t1002.94\n",
      "107\t10    \t344.62 \t472.958\t2.72551\t1002.24\n",
      "108\t2     \t100.719\t296.012\t2.72551\t1001   \n",
      "109\t8     \t51.7505\t215.031\t2.67431\t1001.6 \n",
      "110\t11    \t149.612\t352.583\t2.67431\t1001.6 \n",
      "111\t16    \t271.486\t441.897\t2.67431\t1001.6 \n",
      "112\t12    \t319.944\t464.402\t2.07486\t1001.68\n",
      "113\t7     \t51.9761\t214.987\t2.07486\t1001.54\n",
      "114\t9     \t222.717\t413.423\t2.07486\t1008.63\n",
      "115\t5     \t101.34 \t296.609\t2.07486\t1005.6 \n",
      "116\t9     \t101.201\t296.334\t2.07486\t1006.96\n",
      "117\t9     \t76.7724\t260.748\t2.07486\t1005.33\n",
      "118\t10    \t52.1898\t215.816\t1.52549\t1009.45\n",
      "119\t8     \t149.722\t352.737\t1.52549\t1005.13\n",
      "120\t10    \t246.723\t428.368\t1.52549\t1000.95\n",
      "121\t10    \t222.265\t412.979\t1.52549\t1001.52\n",
      "122\t5     \t222.432\t413.065\t1.52549\t1001.52\n",
      "123\t11    \t246.878\t428.307\t1.52549\t1001.7 \n",
      "124\t10    \t295.376\t453.871\t1.52549\t1001.53\n",
      "125\t4     \t197.951\t395.492\t1.52549\t1001.53\n",
      "126\t7     \t441.575\t494.986\t1.52549\t1001.53\n",
      "127\t12    \t514.557\t498.969\t1.52549\t1001.53\n",
      "128\t9     \t198.158\t395.467\t1.52549\t1001.53\n",
      "129\t8     \t27.4079\t154.018\t1.52549\t1001.49\n",
      "130\t12    \t125.08 \t326.58 \t0.978224\t1001.53\n",
      "131\t12    \t149.722\t352.935\t0.978224\t1007.16\n",
      "132\t10    \t100.616\t296.013\t0.978224\t1000.95\n",
      "133\t4     \t173.269\t375.59 \t0.978224\t1001.5 \n",
      "134\t6     \t441.261\t495.183\t0.978224\t1001.5 \n",
      "135\t12    \t148.673\t353.2  \t0.978224\t1005.43\n",
      "136\t4     \t222.511\t413.134\t0.978224\t1001.53\n",
      "137\t7     \t100.75 \t296.173\t0.978224\t1001.53\n",
      "138\t11    \t173.174\t376.009\t0.894978\t1005.23\n",
      "139\t12    \t149.122\t352.923\t0.894978\t1001.51\n",
      "140\t9     \t173.113\t375.932\t0.894978\t1003.69\n",
      "141\t12    \t271.382\t442.469\t0.894978\t1003.69\n",
      "142\t6     \t343.807\t474.035\t0.894978\t1003.69\n",
      "143\t14    \t247.972\t428.35 \t0.894978\t1003.74\n",
      "144\t13    \t77.6914\t259.461\t0.894978\t1001.41\n",
      "145\t8     \t172.681\t375.864\t0.894978\t1001.38\n",
      "146\t6     \t175.066\t374.821\t0.894978\t1001.34\n",
      "147\t10    \t173.52 \t375.547\t0.860289\t1002.14\n",
      "148\t10    \t393.155\t486.364\t0.860289\t1002.14\n",
      "149\t6     \t660.275\t473.429\t0.860289\t1002.65\n",
      "150\t10    \t367.711\t481.449\t0.860289\t1002.15\n",
      "151\t5     \t392.647\t486.571\t0.860289\t1002.14\n",
      "152\t11    \t416.5  \t491.919\t0.860289\t1002.14\n",
      "153\t4     \t417.011\t491.477\t0.860289\t1002.14\n",
      "154\t15    \t465.903\t498.102\t0.860289\t1006.7 \n",
      "155\t13    \t197.694\t396.002\t0.860289\t1007.62\n",
      "156\t8     \t149.25 \t352.569\t0.860289\t1001.32\n",
      "157\t10    \t294.958\t454.187\t0.860289\t1002.04\n",
      "158\t9     \t343.918\t473.044\t0.860289\t1002.11\n",
      "159\t4     \t100.946\t296.181\t0.845851\t1002.11\n",
      "160\t4     \t76.3265\t259.908\t0.845851\t1001.66\n",
      "161\t12    \t173.572\t376.254\t0.845851\t1008.43\n",
      "162\t10    \t294.106\t454.521\t0.845851\t1000.75\n",
      "163\t11    \t586.912\t491.644\t0.845851\t1003.66\n",
      "164\t13    \t319.074\t464.82 \t0.357515\t1004.43\n",
      "165\t6     \t270.224\t442.832\t0.357515\t1006.73\n",
      "166\t12    \t147.806\t353.284\t0.357515\t1004.43\n",
      "167\t10    \t269.068\t442.881\t0.357515\t1000.87\n",
      "168\t14    \t488.853\t499.972\t0.357515\t1012.36\n",
      "169\t8     \t98.1541\t297.032\t0.357515\t1005.24\n",
      "170\t13    \t317.677\t465.013\t0.357515\t1000.17\n",
      "171\t12    \t317.998\t464.783\t0.357515\t1000.12\n",
      "172\t10    \t439.816\t495.674\t0.357515\t1000.19\n",
      "173\t7     \t245.104\t429.211\t0.357515\t1005.9 \n",
      "174\t5     \t25.9944\t154.032\t0.357515\t1000.1 \n",
      "175\t4     \t25.67  \t154.069\t0.357515\t1000.09\n",
      "176\t10    \t244.927\t428.912\t0.357515\t1000.19\n",
      "177\t7     \t391.172\t487.298\t0.357515\t1003.32\n",
      "178\t11    \t171.985\t376.038\t0.357515\t1004.38\n",
      "179\t9     \t269.484\t442.526\t0.357515\t1002.06\n",
      "180\t12    \t196.171\t395.825\t0.357515\t1000.13\n",
      "181\t9     \t366.823\t481.249\t0.357515\t1005.11\n",
      "182\t12    \t74.4036\t260.098\t0.357515\t1000.1 \n",
      "183\t8     \t74.404 \t260.098\t0.357515\t1000.1 \n",
      "184\t11    \t147.555\t353.275\t0.357515\t1004.28\n",
      "185\t11    \t50.1135\t215.649\t0.357515\t1004.7 \n",
      "186\t8     \t99.0184\t296.66 \t0.357515\t1004.7 \n",
      "187\t8     \t75.1259\t260.436\t0.357515\t1005.54\n",
      "188\t4     \t25.4831\t154.111\t0.357515\t1000.16\n",
      "189\t8     \t49.9988\t215.155\t0.357515\t1000.1 \n"
     ]
    }
   ],
   "source": [
    "_,_,_,a_cells = make_allen_hard_coded_limited()\n",
    "opt,obs_preds,df = public_opt(\n",
    "    a_cells['471819401'],\n",
    "    BPO_PARAMS,\n",
    "    '471819401',\n",
    "    \"ADEXP\",\n",
    "    100,\n",
    "    300,\n",
    "    \"IBEA\",\n",
    "    score_type=RelativeDifferenceScore\n",
    "    )\n"
   ]
  },
  {
   "cell_type": "code",
   "execution_count": null,
   "metadata": {},
   "outputs": [],
   "source": [
    "df"
   ]
  },
  {
   "cell_type": "markdown",
   "metadata": {},
   "source": [
    "# Solution Model Parameters:\n"
   ]
  },
  {
   "cell_type": "code",
   "execution_count": null,
   "metadata": {},
   "outputs": [],
   "source": [
    "opt.attrs_to_params()\n",
    "opt.params"
   ]
  },
  {
   "cell_type": "markdown",
   "metadata": {},
   "source": [
    "Allen Specimen ID: 471819401\n",
    "Four data fitting constraints:\n",
    "* RheobaseTest\t\n",
    "* TimeConstantTest\t\n",
    "* RestingPotentialTest\t\n",
    "* InputResistanceTest\t\n",
    "# Model Izhikevich"
   ]
  },
  {
   "cell_type": "code",
   "execution_count": null,
   "metadata": {},
   "outputs": [],
   "source": [
    "opt,obs_preds,df = public_opt(\n",
    "    a_cells['471819401'],\n",
    "    BPO_PARAMS,\n",
    "    'fi_curve',\n",
    "    \"IZHI\",\n",
    "    100,\n",
    "    360,\n",
    "    \"IBEA\",\n",
    "    )"
   ]
  },
  {
   "cell_type": "code",
   "execution_count": null,
   "metadata": {},
   "outputs": [],
   "source": [
    "df"
   ]
  },
  {
   "cell_type": "markdown",
   "metadata": {},
   "source": [
    "# Solution Parameters:"
   ]
  },
  {
   "cell_type": "code",
   "execution_count": null,
   "metadata": {},
   "outputs": [],
   "source": [
    "opt.attrs_to_params()\n",
    "opt.params"
   ]
  },
  {
   "cell_type": "markdown",
   "metadata": {},
   "source": [
    "# Just FI curve on AdExp model\n",
    "Allen Specimin Id: 471819401"
   ]
  },
  {
   "cell_type": "code",
   "execution_count": null,
   "metadata": {},
   "outputs": [],
   "source": [
    "opt,obs_preds,df = public_opt(\n",
    "    a_cells['fi_curve'],\n",
    "    BPO_PARAMS,\n",
    "    'fi_curve',\n",
    "    \"ADEXP\",\n",
    "    100,\n",
    "    100,\n",
    "    \"IBEA\"\n",
    "    )"
   ]
  },
  {
   "cell_type": "code",
   "execution_count": null,
   "metadata": {},
   "outputs": [],
   "source": [
    "df\n"
   ]
  },
  {
   "cell_type": "code",
   "execution_count": null,
   "metadata": {},
   "outputs": [],
   "source": [
    "opt.attrs"
   ]
  },
  {
   "cell_type": "markdown",
   "metadata": {},
   "source": [
    "Allen Specimen ID: 623960880\n",
    "Four data fitting constraints:\n",
    "* RheobaseTest\t\n",
    "* TimeConstantTest\t\n",
    "* RestingPotentialTest\t\n",
    "* InputResistanceTest\t\n",
    "# Model Izhikevich"
   ]
  },
  {
   "cell_type": "code",
   "execution_count": null,
   "metadata": {},
   "outputs": [],
   "source": [
    "\n",
    "opt,obs_preds,df = public_opt(\n",
    "    allen_suite_623960880.tests,\n",
    "    BPO_PARAMS,\n",
    "    allen_suite_623960880.name,\n",
    "    \"IZHI\",\n",
    "    100,\n",
    "    100,\n",
    "    \"IBEA\"\n",
    "    )"
   ]
  },
  {
   "cell_type": "code",
   "execution_count": null,
   "metadata": {},
   "outputs": [],
   "source": [
    "df"
   ]
  },
  {
   "cell_type": "markdown",
   "metadata": {},
   "source": [
    "# Solution parameters"
   ]
  },
  {
   "cell_type": "code",
   "execution_count": null,
   "metadata": {},
   "outputs": [],
   "source": [
    "opt.attrs_to_params()\n",
    "opt.params"
   ]
  }
 ],
 "metadata": {
  "kernelspec": {
   "display_name": "Python 3",
   "language": "python",
   "name": "python3"
  },
  "language_info": {
   "codemirror_mode": {
    "name": "ipython",
    "version": 3
   },
   "file_extension": ".py",
   "mimetype": "text/x-python",
   "name": "python",
   "nbconvert_exporter": "python",
   "pygments_lexer": "ipython3",
   "version": "3.7.4"
  }
 },
 "nbformat": 4,
 "nbformat_minor": 2
}
