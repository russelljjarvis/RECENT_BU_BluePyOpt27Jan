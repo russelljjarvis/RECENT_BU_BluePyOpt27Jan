{
 "cells": [
  {
   "cell_type": "code",
   "execution_count": 1,
   "metadata": {},
   "outputs": [
    {
     "name": "stderr",
     "output_type": "stream",
     "text": [
      "/home/user/anaconda3/lib/python3.7/site-packages/cerberus/validator.py:1609: UserWarning: No validation schema is defined for the arguments of rule 'not_zero_obs_zscore'\n",
      "  \"'%s'\" % method_name.split('_', 2)[-1]\n",
      "test\n"
     ]
    }
   ],
   "source": [
    "import pandas as pd\n",
    "from neuronunit.optimization.optimization_management import public_opt\n",
    "from sciunit.scores import RelativeDifferenceScore, ZScore\n",
    "from sciunit.utils import config_set, config_get\n",
    "config_set('PREVALIDATE', False)\n",
    "from neuronunit.allenapi.allen_data_driven import make_allen_hard_coded_limited, make_allen_hard_coded_complete\n",
    "import warnings\n",
    "from neuronunit.optimization.model_parameters import BPO_PARAMS\n",
    "warnings.filterwarnings(\"ignore\")\n",
    "_,_,_,a_cells = make_allen_hard_coded_limited()\n",
    "\n",
    "\n",
    "[\n",
    "    allen_suite_623960880,\n",
    "    allen_suite_623893177,\n",
    "    allen_suite471819401,\n",
    "    allen_suite482493761,\n",
    "    a_cells2,\n",
    "    df\n",
    "] = make_allen_hard_coded_complete()\n",
    "\n"
   ]
  },
  {
   "cell_type": "markdown",
   "metadata": {},
   "source": [
    "# In this notebook\n",
    "we fit Izhikevich and Adaptive Exponential Integrate and fire models to electrophysiology observations \n",
    "from the Allen Brain, using BluePyOpt and NeuronUnit.\n",
    "\n",
    "# Immediately Below \n",
    "* is a list of some of the observations we will use:"
   ]
  },
  {
   "cell_type": "code",
   "execution_count": 2,
   "metadata": {},
   "outputs": [
    {
     "data": {
      "text/html": [
       "<div>\n",
       "<style scoped>\n",
       "    .dataframe tbody tr th:only-of-type {\n",
       "        vertical-align: middle;\n",
       "    }\n",
       "\n",
       "    .dataframe tbody tr th {\n",
       "        vertical-align: top;\n",
       "    }\n",
       "\n",
       "    .dataframe thead th {\n",
       "        text-align: right;\n",
       "    }\n",
       "</style>\n",
       "<table border=\"1\" class=\"dataframe\">\n",
       "  <thead>\n",
       "    <tr style=\"text-align: right;\">\n",
       "      <th></th>\n",
       "      <th>TimeConstantTest</th>\n",
       "      <th>name</th>\n",
       "      <th>RestingPotentialTest</th>\n",
       "      <th>InputResistanceTest</th>\n",
       "      <th>RheobaseTest</th>\n",
       "    </tr>\n",
       "  </thead>\n",
       "  <tbody>\n",
       "    <tr>\n",
       "      <th>623960880</th>\n",
       "      <td>23.8 ms</td>\n",
       "      <td>623960880</td>\n",
       "      <td>-65.1 mV</td>\n",
       "      <td>241.0 megaohm</td>\n",
       "      <td>70.0 pA</td>\n",
       "    </tr>\n",
       "    <tr>\n",
       "      <th>623893177</th>\n",
       "      <td>27.8 ms</td>\n",
       "      <td>623893177</td>\n",
       "      <td>-77.0 mV</td>\n",
       "      <td>136.0 megaohm</td>\n",
       "      <td>190.0 pA</td>\n",
       "    </tr>\n",
       "    <tr>\n",
       "      <th>471819401</th>\n",
       "      <td>13.8 ms</td>\n",
       "      <td>471819401</td>\n",
       "      <td>-77.5 mV</td>\n",
       "      <td>132.0 megaohm</td>\n",
       "      <td>190.0 pA</td>\n",
       "    </tr>\n",
       "    <tr>\n",
       "      <th>482493761</th>\n",
       "      <td>24.4 ms</td>\n",
       "      <td>482493761</td>\n",
       "      <td>-71.6 mV</td>\n",
       "      <td>132.0 megaohm</td>\n",
       "      <td>70.0 pA</td>\n",
       "    </tr>\n",
       "  </tbody>\n",
       "</table>\n",
       "</div>"
      ],
      "text/plain": [
       "          TimeConstantTest       name RestingPotentialTest  \\\n",
       "623960880          23.8 ms  623960880             -65.1 mV   \n",
       "623893177          27.8 ms  623893177             -77.0 mV   \n",
       "471819401          13.8 ms  471819401             -77.5 mV   \n",
       "482493761          24.4 ms  482493761             -71.6 mV   \n",
       "\n",
       "          InputResistanceTest RheobaseTest  \n",
       "623960880       241.0 megaohm      70.0 pA  \n",
       "623893177       136.0 megaohm     190.0 pA  \n",
       "471819401       132.0 megaohm     190.0 pA  \n",
       "482493761       132.0 megaohm      70.0 pA  "
      ]
     },
     "execution_count": 2,
     "metadata": {},
     "output_type": "execute_result"
    }
   ],
   "source": [
    "df"
   ]
  },
  {
   "cell_type": "markdown",
   "metadata": {},
   "source": [
    "Allen Specimen ID: 471819401\n",
    "Four data fitting constraints:\n",
    "* RheobaseTest\t\n",
    "* TimeConstantTest\t\n",
    "* RestingPotentialTest\t\n",
    "* InputResistanceTest\t\n",
    "# Model AdExp"
   ]
  },
  {
   "cell_type": "code",
   "execution_count": null,
   "metadata": {},
   "outputs": [
    {
     "name": "stderr",
     "output_type": "stream",
     "text": [
      "gen\tnevals\tavg    \tstd    \tmin    \tmax \n",
      "1  \t100   \t1538.18\t1514.29\t12.4581\t4000\n"
     ]
    },
    {
     "data": {
      "application/vnd.jupyter.widget-view+json": {
       "model_id": "3a4723dc8ac24e369faed1f7719de05f",
       "version_major": 2,
       "version_minor": 0
      },
      "text/plain": [
       "HBox(children=(FloatProgress(value=0.0, max=200.0), HTML(value='')))"
      ]
     },
     "metadata": {},
     "output_type": "display_data"
    },
    {
     "name": "stderr",
     "output_type": "stream",
     "text": [
      "2  \t45    \t1495.88\t1478.09\t12.4581\t4000\n",
      "3  \t8     \t521.317\t693.355\t12.4581\t4000\n",
      "4  \t9     \t169.522\t361.724\t11.7822\t1010.05\n",
      "5  \t7     \t345.401\t468.199\t11.7822\t1009.93\n",
      "6  \t6     \t558.644\t494.769\t11.7822\t1007.78\n",
      "7  \t9     \t597.779\t489.112\t9.83394\t1007.67\n",
      "8  \t7     \t421.771\t488.943\t9.83394\t1006.98\n",
      "9  \t11    \t343.136\t469.018\t9.74488\t1008.07\n",
      "10 \t14    \t421.319\t488.847\t9.74488\t1007.56\n",
      "11 \t11    \t440.64 \t491.915\t8.8705 \t1008.69\n",
      "12 \t5     \t264.488\t432.584\t8.8705 \t1006.71\n",
      "13 \t10    \t536.616\t495.672\t5.4392 \t1007.94\n",
      "14 \t8     \t438.925\t492.656\t5.4392 \t1007.94\n",
      "15 \t6     \t185.129\t379.489\t5.4392 \t1006.17\n",
      "16 \t10    \t244.933\t421.679\t5.4392 \t1007.21\n",
      "17 \t7     \t418.84 \t490.367\t5.4392 \t1005.93\n",
      "18 \t12    \t419.517\t490.006\t5.4392 \t1007.43\n",
      "19 \t12    \t536.703\t497.164\t5.4392 \t1008.4 \n",
      "20 \t12    \t341.273\t469.346\t5.4392 \t1007.4 \n",
      "21 \t6     \t183.519\t380.349\t5.4392 \t1006.2 \n",
      "22 \t12    \t380.979\t481.393\t5.4392 \t1008.41\n",
      "23 \t15    \t360.138\t476.521\t5.4392 \t1007.95\n",
      "24 \t12    \t223.606\t409.826\t5.4392 \t1006.6 \n",
      "25 \t17    \t457.524\t495.213\t4.49761\t1007.14\n",
      "26 \t11    \t379.219\t480.812\t4.49761\t1004.24\n",
      "27 \t7     \t456.276\t495.157\t4.49761\t1003.96\n",
      "28 \t7     \t515.257\t497.278\t3.33278\t1008.38\n",
      "29 \t9     \t280.531\t445.072\t3.33278\t1007.17\n",
      "30 \t16    \t377.275\t482.298\t3.33278\t1005.96\n",
      "31 \t12    \t376.857\t482.047\t3.33278\t1003.23\n",
      "32 \t12    \t631.059\t481.798\t3.33278\t1003.88\n",
      "33 \t12    \t514.304\t497.881\t3.33278\t1008.07\n",
      "34 \t15    \t416.505\t490.144\t3.33278\t1008.21\n",
      "35 \t6     \t415.805\t490.212\t3.33278\t1007.07\n",
      "36 \t5     \t435.328\t493.102\t3.33278\t1004.61\n",
      "37 \t4     \t532.318\t497.196\t3.33278\t1002.09\n",
      "38 \t6     \t454.626\t495.747\t3.33278\t1003.95\n",
      "39 \t9     \t317.827\t462.106\t3.33278\t1003.89\n",
      "40 \t11    \t122.928\t321.507\t3.33278\t1008.35\n",
      "41 \t11    \t142.399\t342.873\t3.33278\t1004.22\n",
      "42 \t8     \t278.389\t444.4  \t3.33278\t1002.47\n"
     ]
    }
   ],
   "source": [
    "opt,obs_preds,df = public_opt(\n",
    "    a_cells['471819401'],\n",
    "    BPO_PARAMS,\n",
    "    '471819401',\n",
    "    \"ADEXP\",\n",
    "    100,\n",
    "    200,\n",
    "    \"IBEA\",\n",
    "    score_type=RelativeDifferenceScore\n",
    "    )\n"
   ]
  },
  {
   "cell_type": "code",
   "execution_count": null,
   "metadata": {},
   "outputs": [],
   "source": [
    "df"
   ]
  },
  {
   "cell_type": "markdown",
   "metadata": {},
   "source": [
    "# Solution Model Parameters:\n"
   ]
  },
  {
   "cell_type": "code",
   "execution_count": null,
   "metadata": {},
   "outputs": [],
   "source": [
    "opt.attrs"
   ]
  },
  {
   "cell_type": "markdown",
   "metadata": {},
   "source": [
    "Allen Specimen ID: 471819401\n",
    "Four data fitting constraints:\n",
    "* RheobaseTest\t\n",
    "* TimeConstantTest\t\n",
    "* RestingPotentialTest\t\n",
    "* InputResistanceTest\t\n",
    "# Model Izhikevich"
   ]
  },
  {
   "cell_type": "code",
   "execution_count": null,
   "metadata": {},
   "outputs": [],
   "source": [
    "opt,obs_preds,df = public_opt(\n",
    "    a_cells['471819401'],\n",
    "    BPO_PARAMS,\n",
    "    'fi_curve',\n",
    "    \"IZHI\",\n",
    "    100,\n",
    "    360,\n",
    "    \"IBEA\",\n",
    "    )"
   ]
  },
  {
   "cell_type": "code",
   "execution_count": null,
   "metadata": {},
   "outputs": [],
   "source": [
    "df"
   ]
  },
  {
   "cell_type": "markdown",
   "metadata": {},
   "source": [
    "# Solution Parameters:"
   ]
  },
  {
   "cell_type": "code",
   "execution_count": null,
   "metadata": {},
   "outputs": [],
   "source": [
    "opt.attrs"
   ]
  },
  {
   "cell_type": "markdown",
   "metadata": {},
   "source": [
    "# Just FI curve on AdExp model\n",
    "Allen Specimin Id: 471819401"
   ]
  },
  {
   "cell_type": "code",
   "execution_count": null,
   "metadata": {},
   "outputs": [],
   "source": [
    "opt,obs_preds,df = public_opt(\n",
    "    a_cells['fi_curve'],\n",
    "    BPO_PARAMS,\n",
    "    'fi_curve',\n",
    "    \"ADEXP\",\n",
    "    100,\n",
    "    100,\n",
    "    \"IBEA\"\n",
    "    )"
   ]
  },
  {
   "cell_type": "code",
   "execution_count": null,
   "metadata": {},
   "outputs": [],
   "source": [
    "df\n"
   ]
  },
  {
   "cell_type": "code",
   "execution_count": null,
   "metadata": {},
   "outputs": [],
   "source": [
    "opt.attrs"
   ]
  },
  {
   "cell_type": "markdown",
   "metadata": {},
   "source": [
    "Allen Specimen ID: 623960880\n",
    "Four data fitting constraints:\n",
    "* RheobaseTest\t\n",
    "* TimeConstantTest\t\n",
    "* RestingPotentialTest\t\n",
    "* InputResistanceTest\t\n",
    "# Model Izhikevich"
   ]
  },
  {
   "cell_type": "code",
   "execution_count": null,
   "metadata": {},
   "outputs": [],
   "source": [
    "\n",
    "opt,obs_preds,df = public_opt(\n",
    "    allen_suite_623960880.tests,\n",
    "    BPO_PARAMS,\n",
    "    allen_suite_623960880.name,\n",
    "    \"IZHI\",\n",
    "    100,\n",
    "    100,\n",
    "    \"IBEA\"\n",
    "    )"
   ]
  },
  {
   "cell_type": "code",
   "execution_count": null,
   "metadata": {},
   "outputs": [],
   "source": [
    "df"
   ]
  },
  {
   "cell_type": "code",
   "execution_count": null,
   "metadata": {},
   "outputs": [],
   "source": [
    "opt.attrs"
   ]
  },
  {
   "cell_type": "code",
   "execution_count": null,
   "metadata": {},
   "outputs": [],
   "source": []
  }
 ],
 "metadata": {
  "kernelspec": {
   "display_name": "Python 3",
   "language": "python",
   "name": "python3"
  },
  "language_info": {
   "codemirror_mode": {
    "name": "ipython",
    "version": 3
   },
   "file_extension": ".py",
   "mimetype": "text/x-python",
   "name": "python",
   "nbconvert_exporter": "python",
   "pygments_lexer": "ipython3",
   "version": "3.7.4"
  }
 },
 "nbformat": 4,
 "nbformat_minor": 2
}
