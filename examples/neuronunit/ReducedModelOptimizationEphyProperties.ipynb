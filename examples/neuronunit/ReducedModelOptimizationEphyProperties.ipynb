{
 "cells": [
  {
   "cell_type": "code",
   "execution_count": 1,
   "metadata": {},
   "outputs": [
    {
     "name": "stderr",
     "output_type": "stream",
     "text": [
      "/home/user/anaconda3/lib/python3.7/site-packages/cerberus/validator.py:1609: UserWarning: No validation schema is defined for the arguments of rule 'not_zero_obs_zscore'\n",
      "  \"'%s'\" % method_name.split('_', 2)[-1]\n"
     ]
    }
   ],
   "source": [
    "import pandas as pd\n",
    "from neuronunit.optimization.optimization_management import public_opt\n",
    "from sciunit.scores import RelativeDifferenceScore, ZScore\n",
    "from sciunit.utils import config_set, config_get\n",
    "config_set('PREVALIDATE', False)\n",
    "from neuronunit.allenapi.allen_data_driven import make_allen_hard_coded_limited, make_allen_hard_coded_complete\n",
    "import warnings\n",
    "from neuronunit.optimization.model_parameters import BPO_PARAMS\n",
    "warnings.filterwarnings(\"ignore\")\n",
    "[allen_suite_623960880,_,_,_,_,df] = make_allen_hard_coded_complete()"
   ]
  },
  {
   "cell_type": "markdown",
   "metadata": {},
   "source": [
    "# In this notebook\n",
    "we fit Izhikevich and Adaptive Exponential Integrate and fire models to electrophysiology observations \n",
    "from the Allen Brain, using BluePyOpt and NeuronUnit.\n",
    "\n",
    "* Immediately Below \n",
    "is a list of some of the observations we will use:"
   ]
  },
  {
   "cell_type": "code",
   "execution_count": 2,
   "metadata": {},
   "outputs": [
    {
     "data": {
      "text/html": [
       "<div>\n",
       "<style scoped>\n",
       "    .dataframe tbody tr th:only-of-type {\n",
       "        vertical-align: middle;\n",
       "    }\n",
       "\n",
       "    .dataframe tbody tr th {\n",
       "        vertical-align: top;\n",
       "    }\n",
       "\n",
       "    .dataframe thead th {\n",
       "        text-align: right;\n",
       "    }\n",
       "</style>\n",
       "<table border=\"1\" class=\"dataframe\">\n",
       "  <thead>\n",
       "    <tr style=\"text-align: right;\">\n",
       "      <th></th>\n",
       "      <th>TimeConstantTest</th>\n",
       "      <th>name</th>\n",
       "      <th>RestingPotentialTest</th>\n",
       "      <th>InputResistanceTest</th>\n",
       "      <th>RheobaseTest</th>\n",
       "    </tr>\n",
       "  </thead>\n",
       "  <tbody>\n",
       "    <tr>\n",
       "      <th>623960880</th>\n",
       "      <td>23.8 ms</td>\n",
       "      <td>623960880</td>\n",
       "      <td>-65.1 mV</td>\n",
       "      <td>241.0 megaohm</td>\n",
       "      <td>70.0 pA</td>\n",
       "    </tr>\n",
       "    <tr>\n",
       "      <th>623893177</th>\n",
       "      <td>27.8 ms</td>\n",
       "      <td>623893177</td>\n",
       "      <td>-77.0 mV</td>\n",
       "      <td>136.0 megaohm</td>\n",
       "      <td>190.0 pA</td>\n",
       "    </tr>\n",
       "    <tr>\n",
       "      <th>471819401</th>\n",
       "      <td>13.8 ms</td>\n",
       "      <td>471819401</td>\n",
       "      <td>-77.5 mV</td>\n",
       "      <td>132.0 megaohm</td>\n",
       "      <td>190.0 pA</td>\n",
       "    </tr>\n",
       "    <tr>\n",
       "      <th>482493761</th>\n",
       "      <td>24.4 ms</td>\n",
       "      <td>482493761</td>\n",
       "      <td>-71.6 mV</td>\n",
       "      <td>132.0 megaohm</td>\n",
       "      <td>70.0 pA</td>\n",
       "    </tr>\n",
       "  </tbody>\n",
       "</table>\n",
       "</div>"
      ],
      "text/plain": [
       "          TimeConstantTest       name RestingPotentialTest  \\\n",
       "623960880          23.8 ms  623960880             -65.1 mV   \n",
       "623893177          27.8 ms  623893177             -77.0 mV   \n",
       "471819401          13.8 ms  471819401             -77.5 mV   \n",
       "482493761          24.4 ms  482493761             -71.6 mV   \n",
       "\n",
       "          InputResistanceTest RheobaseTest  \n",
       "623960880       241.0 megaohm      70.0 pA  \n",
       "623893177       136.0 megaohm     190.0 pA  \n",
       "471819401       132.0 megaohm     190.0 pA  \n",
       "482493761       132.0 megaohm      70.0 pA  "
      ]
     },
     "execution_count": 2,
     "metadata": {},
     "output_type": "execute_result"
    }
   ],
   "source": [
    "df"
   ]
  },
  {
   "cell_type": "markdown",
   "metadata": {},
   "source": [
    "Allen Specimen ID: 471819401\n",
    "Four data fitting constraints:\n",
    "* RheobaseTest\t\n",
    "* TimeConstantTest\t\n",
    "* RestingPotentialTest\t\n",
    "* InputResistanceTest\t\n",
    "# Model AdExp"
   ]
  },
  {
   "cell_type": "code",
   "execution_count": null,
   "metadata": {},
   "outputs": [
    {
     "data": {
      "application/vnd.jupyter.widget-view+json": {
       "model_id": "b6b3a6d181484c3f9f50e3fbedf7476e",
       "version_major": 2,
       "version_minor": 0
      },
      "text/plain": [
       "HBox(children=(FloatProgress(value=0.0, max=300.0), HTML(value='')))"
      ]
     },
     "metadata": {},
     "output_type": "display_data"
    }
   ],
   "source": [
    "_,_,_,a_cells = make_allen_hard_coded_limited()\n",
    "opt,obs_preds,df = public_opt(\n",
    "    a_cells['471819401'],\n",
    "    BPO_PARAMS,\n",
    "    '471819401',\n",
    "    \"ADEXP\",\n",
    "    100,\n",
    "    300,\n",
    "    \"IBEA\",\n",
    "    score_type=RelativeDifferenceScore\n",
    "    )\n"
   ]
  },
  {
   "cell_type": "code",
   "execution_count": null,
   "metadata": {},
   "outputs": [],
   "source": [
    "df"
   ]
  },
  {
   "cell_type": "markdown",
   "metadata": {},
   "source": [
    "# Solution Model Parameters:\n"
   ]
  },
  {
   "cell_type": "code",
   "execution_count": null,
   "metadata": {},
   "outputs": [],
   "source": [
    "opt.attrs_to_params()\n",
    "opt.params"
   ]
  },
  {
   "cell_type": "markdown",
   "metadata": {},
   "source": [
    "Allen Specimen ID: 471819401\n",
    "Four data fitting constraints:\n",
    "* RheobaseTest\t\n",
    "* TimeConstantTest\t\n",
    "* RestingPotentialTest\t\n",
    "* InputResistanceTest\t\n",
    "# Model Izhikevich"
   ]
  },
  {
   "cell_type": "code",
   "execution_count": null,
   "metadata": {},
   "outputs": [],
   "source": [
    "opt,obs_preds,df = public_opt(\n",
    "    a_cells['471819401'],\n",
    "    BPO_PARAMS,\n",
    "    'fi_curve',\n",
    "    \"IZHI\",\n",
    "    100,\n",
    "    360,\n",
    "    \"IBEA\",\n",
    "    )"
   ]
  },
  {
   "cell_type": "code",
   "execution_count": null,
   "metadata": {},
   "outputs": [],
   "source": [
    "df"
   ]
  },
  {
   "cell_type": "markdown",
   "metadata": {},
   "source": [
    "# Solution Parameters:"
   ]
  },
  {
   "cell_type": "code",
   "execution_count": null,
   "metadata": {},
   "outputs": [],
   "source": [
    "opt.attrs_to_params()\n",
    "opt.params"
   ]
  },
  {
   "cell_type": "markdown",
   "metadata": {},
   "source": [
    "# Just FI curve on AdExp model\n",
    "Allen Specimin Id: 471819401"
   ]
  },
  {
   "cell_type": "code",
   "execution_count": null,
   "metadata": {},
   "outputs": [],
   "source": [
    "opt,obs_preds,df = public_opt(\n",
    "    a_cells['fi_curve'],\n",
    "    BPO_PARAMS,\n",
    "    'fi_curve',\n",
    "    \"ADEXP\",\n",
    "    100,\n",
    "    100,\n",
    "    \"IBEA\"\n",
    "    )"
   ]
  },
  {
   "cell_type": "code",
   "execution_count": null,
   "metadata": {},
   "outputs": [],
   "source": [
    "df\n"
   ]
  },
  {
   "cell_type": "code",
   "execution_count": null,
   "metadata": {},
   "outputs": [],
   "source": [
    "opt.attrs"
   ]
  },
  {
   "cell_type": "markdown",
   "metadata": {},
   "source": [
    "Allen Specimen ID: 623960880\n",
    "Four data fitting constraints:\n",
    "* RheobaseTest\t\n",
    "* TimeConstantTest\t\n",
    "* RestingPotentialTest\t\n",
    "* InputResistanceTest\t\n",
    "# Model Izhikevich"
   ]
  },
  {
   "cell_type": "code",
   "execution_count": null,
   "metadata": {},
   "outputs": [],
   "source": [
    "\n",
    "opt,obs_preds,df = public_opt(\n",
    "    allen_suite_623960880.tests,\n",
    "    BPO_PARAMS,\n",
    "    allen_suite_623960880.name,\n",
    "    \"IZHI\",\n",
    "    100,\n",
    "    100,\n",
    "    \"IBEA\"\n",
    "    )"
   ]
  },
  {
   "cell_type": "code",
   "execution_count": null,
   "metadata": {},
   "outputs": [],
   "source": [
    "df"
   ]
  },
  {
   "cell_type": "markdown",
   "metadata": {},
   "source": [
    "# Solution parameters"
   ]
  },
  {
   "cell_type": "code",
   "execution_count": null,
   "metadata": {},
   "outputs": [],
   "source": [
    "opt.attrs_to_params()\n",
    "opt.params"
   ]
  }
 ],
 "metadata": {
  "kernelspec": {
   "display_name": "Python 3",
   "language": "python",
   "name": "python3"
  },
  "language_info": {
   "codemirror_mode": {
    "name": "ipython",
    "version": 3
   },
   "file_extension": ".py",
   "mimetype": "text/x-python",
   "name": "python",
   "nbconvert_exporter": "python",
   "pygments_lexer": "ipython3",
   "version": "3.7.4"
  }
 },
 "nbformat": 4,
 "nbformat_minor": 2
}
