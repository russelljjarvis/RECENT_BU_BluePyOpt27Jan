{
 "cells": [
  {
   "cell_type": "code",
   "execution_count": 1,
   "metadata": {},
   "outputs": [
    {
     "name": "stderr",
     "output_type": "stream",
     "text": [
      "/home/user/anaconda3/lib/python3.7/site-packages/cerberus/validator.py:1609: UserWarning: No validation schema is defined for the arguments of rule 'not_zero_obs_zscore'\n",
      "  \"'%s'\" % method_name.split('_', 2)[-1]\n",
      "test\n"
     ]
    }
   ],
   "source": [
    "import pandas as pd\n",
    "from neuronunit.optimization.optimization_management import public_opt\n",
    "from sciunit.scores import RelativeDifferenceScore, ZScore\n",
    "from sciunit.utils import config_set, config_get\n",
    "config_set('PREVALIDATE', False)\n",
    "from neuronunit.allenapi.allen_data_driven import make_allen_hard_coded_limited, make_allen_hard_coded_complete\n",
    "import warnings\n",
    "from neuronunit.optimization.model_parameters import BPO_PARAMS\n",
    "warnings.filterwarnings(\"ignore\")\n",
    "_,_,_,a_cells = make_allen_hard_coded_limited()\n",
    "\n",
    "\n",
    "[\n",
    "    allen_suite_623960880,\n",
    "    allen_suite_623893177,\n",
    "    allen_suite471819401,\n",
    "    allen_suite482493761,\n",
    "    a_cells2,\n",
    "    df\n",
    "] = make_allen_hard_coded_complete()\n",
    "\n"
   ]
  },
  {
   "cell_type": "markdown",
   "metadata": {},
   "source": [
    "# In this notebook\n",
    "we fit Izhikevich and Adaptive Exponential Integrate and fire models to electrophysiology observations \n",
    "from the Allen Brain, using BluePyOpt and NeuronUnit.\n",
    "\n",
    "# Immediately Below \n",
    "* is a list of some of the observations we will use:"
   ]
  },
  {
   "cell_type": "code",
   "execution_count": 2,
   "metadata": {},
   "outputs": [
    {
     "data": {
      "text/html": [
       "<div>\n",
       "<style scoped>\n",
       "    .dataframe tbody tr th:only-of-type {\n",
       "        vertical-align: middle;\n",
       "    }\n",
       "\n",
       "    .dataframe tbody tr th {\n",
       "        vertical-align: top;\n",
       "    }\n",
       "\n",
       "    .dataframe thead th {\n",
       "        text-align: right;\n",
       "    }\n",
       "</style>\n",
       "<table border=\"1\" class=\"dataframe\">\n",
       "  <thead>\n",
       "    <tr style=\"text-align: right;\">\n",
       "      <th></th>\n",
       "      <th>TimeConstantTest</th>\n",
       "      <th>name</th>\n",
       "      <th>RestingPotentialTest</th>\n",
       "      <th>InputResistanceTest</th>\n",
       "      <th>RheobaseTest</th>\n",
       "    </tr>\n",
       "  </thead>\n",
       "  <tbody>\n",
       "    <tr>\n",
       "      <th>623960880</th>\n",
       "      <td>23.8 ms</td>\n",
       "      <td>623960880</td>\n",
       "      <td>-65.1 mV</td>\n",
       "      <td>241.0 megaohm</td>\n",
       "      <td>70.0 pA</td>\n",
       "    </tr>\n",
       "    <tr>\n",
       "      <th>623893177</th>\n",
       "      <td>27.8 ms</td>\n",
       "      <td>623893177</td>\n",
       "      <td>-77.0 mV</td>\n",
       "      <td>136.0 megaohm</td>\n",
       "      <td>190.0 pA</td>\n",
       "    </tr>\n",
       "    <tr>\n",
       "      <th>471819401</th>\n",
       "      <td>13.8 ms</td>\n",
       "      <td>471819401</td>\n",
       "      <td>-77.5 mV</td>\n",
       "      <td>132.0 megaohm</td>\n",
       "      <td>190.0 pA</td>\n",
       "    </tr>\n",
       "    <tr>\n",
       "      <th>482493761</th>\n",
       "      <td>24.4 ms</td>\n",
       "      <td>482493761</td>\n",
       "      <td>-71.6 mV</td>\n",
       "      <td>132.0 megaohm</td>\n",
       "      <td>70.0 pA</td>\n",
       "    </tr>\n",
       "  </tbody>\n",
       "</table>\n",
       "</div>"
      ],
      "text/plain": [
       "          TimeConstantTest       name RestingPotentialTest  \\\n",
       "623960880          23.8 ms  623960880             -65.1 mV   \n",
       "623893177          27.8 ms  623893177             -77.0 mV   \n",
       "471819401          13.8 ms  471819401             -77.5 mV   \n",
       "482493761          24.4 ms  482493761             -71.6 mV   \n",
       "\n",
       "          InputResistanceTest RheobaseTest  \n",
       "623960880       241.0 megaohm      70.0 pA  \n",
       "623893177       136.0 megaohm     190.0 pA  \n",
       "471819401       132.0 megaohm     190.0 pA  \n",
       "482493761       132.0 megaohm      70.0 pA  "
      ]
     },
     "execution_count": 2,
     "metadata": {},
     "output_type": "execute_result"
    }
   ],
   "source": [
    "df"
   ]
  },
  {
   "cell_type": "markdown",
   "metadata": {},
   "source": [
    "Allen Specimen ID: 471819401\n",
    "Four data fitting constraints:\n",
    "* RheobaseTest\t\n",
    "* TimeConstantTest\t\n",
    "* RestingPotentialTest\t\n",
    "* InputResistanceTest\t\n",
    "# Model AdExp"
   ]
  },
  {
   "cell_type": "code",
   "execution_count": 3,
   "metadata": {},
   "outputs": [
    {
     "name": "stderr",
     "output_type": "stream",
     "text": [
      "gen\tnevals\tavg    \tstd    \tmin    \tmax \n",
      "1  \t100   \t1538.18\t1514.29\t12.4581\t4000\n"
     ]
    },
    {
     "data": {
      "application/vnd.jupyter.widget-view+json": {
       "model_id": "4a9985038c294a9a844b6fece989f8f4",
       "version_major": 2,
       "version_minor": 0
      },
      "text/plain": [
       "HBox(children=(FloatProgress(value=0.0), HTML(value='')))"
      ]
     },
     "metadata": {},
     "output_type": "display_data"
    },
    {
     "name": "stderr",
     "output_type": "stream",
     "text": [
      "2  \t45    \t1461.24\t1480.68\t9.93825\t4000\n",
      "3  \t7     \t400.301\t484.527\t9.93825\t1009.87\n",
      "4  \t7     \t236.369\t414.534\t9.93825\t1010.11\n",
      "5  \t22    \t340.159\t467.049\t8.89147\t1011.75\n",
      "6  \t7     \t250.161\t424.425\t8.89147\t1008.4 \n",
      "7  \t13    \t368.577\t637.407\t8.89147\t4000   \n",
      "8  \t8     \t69.951 \t236.432\t8.89147\t1011.47\n",
      "9  \t11    \t174.54 \t368.894\t8.89147\t1009.28\n",
      "10 \t9     \t338.45 \t467.217\t8.89147\t1008.4 \n",
      "11 \t17    \t204.008\t393.457\t8.69363\t1008.97\n",
      "12 \t11    \t381.581\t481.446\t8.69363\t1007.46\n",
      "13 \t12    \t188.616\t382.059\t8.27482\t1008.41\n",
      "14 \t16    \t292.199\t449.188\t8.11329\t1006.76\n",
      "15 \t13    \t352.12 \t473.113\t6.16534\t1009.45\n",
      "16 \t12    \t455.278\t495.797\t6.16534\t1008.18\n",
      "17 \t12    \t425.732\t491.39 \t6.16534\t1007.7 \n",
      "18 \t16    \t410.962\t646.036\t6.16534\t4000   \n",
      "19 \t16    \t187.02 \t382.443\t6.16534\t1008.84\n",
      "20 \t6     \t158.423\t354.712\t6.16534\t1009.42\n",
      "21 \t14    \t395.261\t485.191\t6.16534\t1008.71\n",
      "22 \t17    \t247.248\t425.028\t6.16534\t1013.74\n",
      "23 \t15    \t440.195\t493.58 \t6.16534\t1007.42\n",
      "24 \t2     \t439.454\t493.7  \t6.16534\t1007.44\n",
      "25 \t18    \t513.934\t497.957\t6.16534\t1010.46\n",
      "26 \t20    \t350.389\t472.879\t5.63063\t1006.28\n",
      "27 \t15    \t498.9  \t653.006\t5.63063\t4000   \n",
      "28 \t13    \t141.454\t340.039\t5.63063\t1006.87\n",
      "29 \t14    \t245.375\t424.57 \t5.63063\t1008.23\n",
      "30 \t18    \t185.965\t382.093\t5.63063\t1007.51\n",
      "31 \t10    \t393.594\t485.692\t5.63063\t1007.76\n",
      "32 \t12    \t556.975\t495.189\t5.63063\t1007.75\n",
      "33 \t13    \t408.033\t488.39 \t5.51602\t1003.69\n",
      "34 \t15    \t422.467\t491.326\t5.51602\t1004.76\n",
      "35 \t11    \t229.52 \t415.122\t5.51602\t1006   \n",
      "36 \t7     \t377.757\t481.891\t5.51602\t1007.25\n",
      "37 \t12    \t452.591\t651.117\t5.51602\t4000   \n",
      "38 \t16    \t110.423\t521.331\t5.51602\t4000   \n",
      "39 \t11    \t80.528 \t261.999\t5.51602\t1008.14\n",
      "40 \t12    \t169.648\t369.3  \t5.51602\t1008.39\n",
      "41 \t19    \t303.632\t455.759\t5.51602\t1008.43\n",
      "42 \t4     \t363.111\t477.19 \t5.51602\t1005.19\n",
      "43 \t16    \t466.686\t496.574\t5.51602\t1005.9 \n",
      "44 \t16    \t436.92 \t493.449\t5.44246\t1008.58\n",
      "45 \t15    \t452.133\t651.071\t5.44246\t4000   \n",
      "46 \t11    \t65.2927\t236.047\t5.03564\t1003.25\n",
      "47 \t11    \t154.906\t355.197\t5.03564\t1008.34\n",
      "48 \t10    \t124.752\t322.798\t5.01701\t1002.05\n",
      "49 \t11    \t422.059\t490.928\t5.01701\t1002.62\n",
      "50 \t12    \t243.515\t424.394\t5.01701\t1001.98\n",
      "51 \t14    \t154.467\t355.078\t5.01701\t1007.57\n",
      "52 \t22    \t332.487\t467.726\t4.65536\t1002.41\n",
      "53 \t11    \t258.615\t433.448\t4.65536\t1005.14\n",
      "54 \t7     \t347.818\t472.662\t4.65536\t1002.41\n",
      "55 \t14    \t317.716\t461.889\t4.65536\t1001.95\n",
      "56 \t14    \t451.423\t495.358\t4.65536\t1005.45\n",
      "57 \t6     \t332.881\t468.17 \t4.65536\t1007.76\n",
      "58 \t12    \t124.614\t323.16 \t4.65536\t1004.79\n",
      "59 \t27    \t332.622\t468.059\t4.65536\t1006.7 \n",
      "60 \t23    \t317.821\t461.903\t4.65536\t1002.14\n",
      "61 \t18    \t288.38 \t448.743\t4.65536\t1006.98\n",
      "62 \t16    \t273.154\t441.719\t4.65536\t1006.91\n",
      "63 \t9     \t94.9493\t284.994\t4.65536\t1008.94\n",
      "64 \t24    \t169.181\t368.98 \t4.65536\t1002.13\n",
      "65 \t19    \t347.913\t762.601\t4.65536\t4000   \n",
      "66 \t11    \t124.336\t532.18 \t4.65536\t4000   \n",
      "67 \t11    \t34.6809\t170.121\t4.65536\t1008.11\n",
      "68 \t11    \t109.327\t305.007\t4.65536\t1007.78\n",
      "69 \t13    \t94.9635\t284.946\t4.65536\t1008.73\n",
      "70 \t10    \t49.7357\t206.555\t4.65536\t1005.42\n",
      "71 \t12    \t183.939\t382.084\t4.65536\t1001.93\n",
      "72 \t16    \t392.212\t643.981\t4.65536\t4000   \n",
      "73 \t15    \t94.3559\t284.704\t4.52695\t1005.75\n",
      "74 \t12    \t154.125\t355.186\t4.52695\t1007.06\n",
      "75 \t10    \t94.5895\t284.427\t4.52695\t1001.84\n",
      "76 \t12    \t198.525\t394.058\t4.52695\t1005.66\n",
      "77 \t15    \t317.698\t462.165\t4.52695\t1008.09\n",
      "78 \t17    \t347.323\t473.027\t4.52695\t1003.19\n",
      "79 \t11    \t377.032\t481.706\t4.52695\t1001.83\n",
      "80 \t22    \t377.164\t481.743\t4.52695\t1002.23\n",
      "81 \t10    \t302.631\t455.847\t4.52695\t1002.37\n",
      "82 \t14    \t243.543\t424.796\t4.52695\t1006.69\n",
      "83 \t8     \t49.6151\t205.975\t4.52695\t1001.38\n",
      "84 \t11    \t79.8618\t261.664\t4.52695\t1001.73\n",
      "85 \t15    \t139.216\t339.696\t4.52695\t1002.18\n",
      "86 \t15    \t317.641\t462.152\t4.52695\t1002.84\n",
      "87 \t16    \t258.199\t433.421\t4.52695\t1001.86\n",
      "88 \t18    \t540.924\t496.64 \t4.52695\t1009.76\n",
      "89 \t11    \t169.184\t369.198\t4.52695\t1005.66\n",
      "90 \t20    \t228.451\t415.252\t4.52695\t1001.88\n",
      "91 \t8     \t377.299\t481.605\t4.52695\t1001.88\n",
      "92 \t17    \t451.735\t651.099\t4.52695\t4000   \n",
      "93 \t12    \t79.6591\t261.917\t4.52695\t1002.48\n",
      "94 \t16    \t154.624\t355.277\t4.52695\t1009.47\n",
      "95 \t12    \t109.776\t304.871\t4.52695\t1007.48\n",
      "96 \t13    \t199.015\t393.763\t4.52695\t1002.05\n",
      "97 \t12    \t287.844\t448.828\t4.52695\t1002.52\n",
      "98 \t13    \t481.493\t497.804\t4.52695\t1009.68\n",
      "99 \t12    \t94.8861\t284.843\t4.52695\t1007.47\n",
      "100\t10    \t65.3479\t236.481\t4.52695\t1006.48\n",
      "Run stopped because of stopping criteria: Max ngen\n"
     ]
    },
    {
     "name": "stdout",
     "output_type": "stream",
     "text": [
      "\n"
     ]
    }
   ],
   "source": [
    "opt,obs_preds,df = public_opt(\n",
    "    a_cells['471819401'],\n",
    "    BPO_PARAMS,\n",
    "    '471819401',\n",
    "    \"ADEXP\",\n",
    "    100,\n",
    "    200,\n",
    "    \"IBEA\",\n",
    "    score_type=RelativeDifferenceScore\n",
    "    )\n"
   ]
  },
  {
   "cell_type": "code",
   "execution_count": 4,
   "metadata": {},
   "outputs": [
    {
     "data": {
      "text/html": [
       "<div>\n",
       "<style scoped>\n",
       "    .dataframe tbody tr th:only-of-type {\n",
       "        vertical-align: middle;\n",
       "    }\n",
       "\n",
       "    .dataframe tbody tr th {\n",
       "        vertical-align: top;\n",
       "    }\n",
       "\n",
       "    .dataframe thead th {\n",
       "        text-align: right;\n",
       "    }\n",
       "</style>\n",
       "<table border=\"1\" class=\"dataframe\">\n",
       "  <thead>\n",
       "    <tr style=\"text-align: right;\">\n",
       "      <th></th>\n",
       "      <th>observations</th>\n",
       "      <th>predictions</th>\n",
       "    </tr>\n",
       "  </thead>\n",
       "  <tbody>\n",
       "    <tr>\n",
       "      <th>RheobaseTest</th>\n",
       "      <td>190.0 pA</td>\n",
       "      <td>137.16 pA</td>\n",
       "    </tr>\n",
       "    <tr>\n",
       "      <th>TimeConstantTest</th>\n",
       "      <td>13.8 ms</td>\n",
       "      <td>14.22 ms</td>\n",
       "    </tr>\n",
       "    <tr>\n",
       "      <th>RestingPotentialTest</th>\n",
       "      <td>-77.5 mV</td>\n",
       "      <td>-77.42 mV</td>\n",
       "    </tr>\n",
       "    <tr>\n",
       "      <th>InputResistanceTest</th>\n",
       "      <td>132.0 megaohm</td>\n",
       "      <td>130.58 megaohm</td>\n",
       "    </tr>\n",
       "  </tbody>\n",
       "</table>\n",
       "</div>"
      ],
      "text/plain": [
       "                       observations     predictions\n",
       "RheobaseTest               190.0 pA       137.16 pA\n",
       "TimeConstantTest            13.8 ms        14.22 ms\n",
       "RestingPotentialTest       -77.5 mV       -77.42 mV\n",
       "InputResistanceTest   132.0 megaohm  130.58 megaohm"
      ]
     },
     "execution_count": 4,
     "metadata": {},
     "output_type": "execute_result"
    }
   ],
   "source": [
    "df"
   ]
  },
  {
   "cell_type": "markdown",
   "metadata": {},
   "source": [
    "# Solution Model Parameters:\n"
   ]
  },
  {
   "cell_type": "code",
   "execution_count": 5,
   "metadata": {},
   "outputs": [
    {
     "data": {
      "text/plain": [
       "{'cm': 141.89465213418762,\n",
       " 'v_spike': -56.87835077283676,\n",
       " 'v_reset': -73.40688669611093,\n",
       " 'v_rest': -77.61697031896016,\n",
       " 'tau_m': 25.212126495261817,\n",
       " 'a': 4.119094306368419,\n",
       " 'b': 4.1830671821939305,\n",
       " 'delta_T': 8.10331025873728,\n",
       " 'tau_w': 231.5671836817075,\n",
       " 'v_thresh': -46.06592482811786,\n",
       " 'spike_delta': 52.60612763204166}"
      ]
     },
     "execution_count": 5,
     "metadata": {},
     "output_type": "execute_result"
    }
   ],
   "source": [
    "opt.attrs"
   ]
  },
  {
   "cell_type": "markdown",
   "metadata": {},
   "source": [
    "Allen Specimen ID: 471819401\n",
    "Four data fitting constraints:\n",
    "* RheobaseTest\t\n",
    "* TimeConstantTest\t\n",
    "* RestingPotentialTest\t\n",
    "* InputResistanceTest\t\n",
    "# Model Izhikevich"
   ]
  },
  {
   "cell_type": "code",
   "execution_count": null,
   "metadata": {},
   "outputs": [
    {
     "name": "stderr",
     "output_type": "stream",
     "text": [
      "gen\tnevals\tavg   \tstd    \tmin    \tmax \n",
      "1  \t100   \t1408.1\t1110.01\t13.2802\t4000\n"
     ]
    },
    {
     "data": {
      "application/vnd.jupyter.widget-view+json": {
       "model_id": "e6343f9eea874c988d0bf2c511cf46d1",
       "version_major": 2,
       "version_minor": 0
      },
      "text/plain": [
       "HBox(children=(FloatProgress(value=0.0, max=360.0), HTML(value='')))"
      ]
     },
     "metadata": {},
     "output_type": "display_data"
    },
    {
     "name": "stderr",
     "output_type": "stream",
     "text": [
      "2  \t53    \t1351.62\t1096.69\t12.0124\t4000\n",
      "3  \t16    \t741.547\t609.985\t12.0124\t4000\n",
      "4  \t16    \t355.01 \t633.407\t12.0124\t4000\n",
      "5  \t16    \t101.833\t284.637\t11.0153\t1009.66\n",
      "6  \t18    \t265.502\t433.831\t11.0153\t1010.23\n",
      "7  \t13    \t533.918\t776.673\t11.0153\t4000   \n",
      "8  \t14    \t116.998\t304.791\t11.0153\t1010.18\n",
      "9  \t15    \t325.726\t625.535\t11.0153\t4000   \n",
      "10 \t14    \t191.261\t569.272\t11.0153\t4000   \n",
      "11 \t14    \t55.9722\t206.45 \t10.2464\t1009.92\n"
     ]
    }
   ],
   "source": [
    "opt,obs_preds,df = public_opt(\n",
    "    a_cells['471819401'],\n",
    "    BPO_PARAMS,\n",
    "    'fi_curve',\n",
    "    \"IZHI\",\n",
    "    100,\n",
    "    360,\n",
    "    \"IBEA\",\n",
    "    )"
   ]
  },
  {
   "cell_type": "code",
   "execution_count": 8,
   "metadata": {},
   "outputs": [
    {
     "data": {
      "text/html": [
       "<div>\n",
       "<style scoped>\n",
       "    .dataframe tbody tr th:only-of-type {\n",
       "        vertical-align: middle;\n",
       "    }\n",
       "\n",
       "    .dataframe tbody tr th {\n",
       "        vertical-align: top;\n",
       "    }\n",
       "\n",
       "    .dataframe thead th {\n",
       "        text-align: right;\n",
       "    }\n",
       "</style>\n",
       "<table border=\"1\" class=\"dataframe\">\n",
       "  <thead>\n",
       "    <tr style=\"text-align: right;\">\n",
       "      <th></th>\n",
       "      <th>observations</th>\n",
       "      <th>predictions</th>\n",
       "    </tr>\n",
       "  </thead>\n",
       "  <tbody>\n",
       "    <tr>\n",
       "      <th>RheobaseTest</th>\n",
       "      <td>190.0 pA</td>\n",
       "      <td>349.62 pA</td>\n",
       "    </tr>\n",
       "    <tr>\n",
       "      <th>TimeConstantTest</th>\n",
       "      <td>13.8 ms</td>\n",
       "      <td>13.91 ms</td>\n",
       "    </tr>\n",
       "    <tr>\n",
       "      <th>RestingPotentialTest</th>\n",
       "      <td>-77.5 mV</td>\n",
       "      <td>-71.45 mV</td>\n",
       "    </tr>\n",
       "    <tr>\n",
       "      <th>InputResistanceTest</th>\n",
       "      <td>132.0 megaohm</td>\n",
       "      <td>129.1 megaohm</td>\n",
       "    </tr>\n",
       "  </tbody>\n",
       "</table>\n",
       "</div>"
      ],
      "text/plain": [
       "                       observations    predictions\n",
       "RheobaseTest               190.0 pA      349.62 pA\n",
       "TimeConstantTest            13.8 ms       13.91 ms\n",
       "RestingPotentialTest       -77.5 mV      -71.45 mV\n",
       "InputResistanceTest   132.0 megaohm  129.1 megaohm"
      ]
     },
     "execution_count": 8,
     "metadata": {},
     "output_type": "execute_result"
    }
   ],
   "source": [
    "df"
   ]
  },
  {
   "cell_type": "markdown",
   "metadata": {},
   "source": [
    "# Solution Parameters:"
   ]
  },
  {
   "cell_type": "code",
   "execution_count": 9,
   "metadata": {},
   "outputs": [
    {
     "data": {
      "text/plain": [
       "{'C': 164.64073878392082,\n",
       " 'k': 0.7824831664283994,\n",
       " 'vr': -60.617527638867145,\n",
       " 'vt': -44.83912380228744,\n",
       " 'vPeak': 43.73174263796198,\n",
       " 'a': 0.08560954808513295,\n",
       " 'b': 13.193899560828427,\n",
       " 'c': -56.381292959753345,\n",
       " 'd': 131.64874325051048,\n",
       " 'celltype': 3.3911289664348847}"
      ]
     },
     "execution_count": 9,
     "metadata": {},
     "output_type": "execute_result"
    }
   ],
   "source": [
    "opt.attrs"
   ]
  },
  {
   "cell_type": "markdown",
   "metadata": {},
   "source": [
    "# Just FI curve on AdExp model\n",
    "Allen Specimin Id: 471819401"
   ]
  },
  {
   "cell_type": "code",
   "execution_count": 10,
   "metadata": {},
   "outputs": [
    {
     "name": "stderr",
     "output_type": "stream",
     "text": [
      "gen\tnevals\tavg    \tstd    \tmin    \tmax \n",
      "1  \t100   \t1651.54\t495.397\t4.32057\t2000\n"
     ]
    },
    {
     "data": {
      "application/vnd.jupyter.widget-view+json": {
       "model_id": "eac56f986fe9485fb17babdc385e8d0b",
       "version_major": 2,
       "version_minor": 0
      },
      "text/plain": [
       "HBox(children=(FloatProgress(value=0.0), HTML(value='')))"
      ]
     },
     "metadata": {},
     "output_type": "display_data"
    },
    {
     "name": "stderr",
     "output_type": "stream",
     "text": [
      "2  \t45    \t1618.58\t523.34 \t4.32057\t2000\n",
      "3  \t7     \t1107.45\t600.136\t4.32057\t2000\n",
      "4  \t7     \t644.333\t588.77 \t4.32057\t2000\n",
      "5  \t22    \t377.121\t592.899\t4.32057\t2000\n",
      "6  \t10    \t49.0836\t206.033\t4.32057\t1000.98\n",
      "7  \t18    \t183.011\t419.242\t2.68177\t2000   \n",
      "8  \t16    \t19.0807\t120.867\t2.68177\t1001.01\n",
      "9  \t11    \t33.8411\t169.501\t2.68177\t1000.19\n",
      "10 \t9     \t152.272\t395.12 \t2.68177\t2000   \n",
      "11 \t6     \t17.6654\t120.928\t2.68177\t1000.09\n",
      "12 \t20    \t2.68177\t0      \t2.68177\t2.68177\n",
      "13 \t16    \t2.68177\t0      \t2.68177\t2.68177\n",
      "14 \t13    \t17.5697\t120.95 \t2.68177\t1000.18\n",
      "15 \t11    \t2.71294\t0.253223\t2.68177\t4.77013\n",
      "16 \t17    \t47.426 \t269.104 \t2.68177\t2000   \n",
      "17 \t12    \t17.5684\t120.94  \t2.68177\t1000.09\n",
      "18 \t7     \t47.4151\t269.097 \t2.68177\t2000   \n",
      "19 \t20    \t2.68177\t0       \t2.68177\t2.68177\n",
      "20 \t16    \t47.3895\t269.094 \t2.68177\t2000   \n",
      "21 \t14    \t92.1139\t413.069 \t2.68177\t2000   \n",
      "22 \t13    \t47.3791\t269.057 \t2.68177\t2000   \n",
      "23 \t11    \t32.4925\t242.183 \t2.68177\t2000   \n",
      "24 \t19    \t32.4925\t242.183 \t2.68177\t2000   \n",
      "25 \t16    \t2.68177\t0       \t2.68177\t2.68177\n",
      "26 \t16    \t47.472 \t269.387 \t2.68177\t2000   \n",
      "27 \t9     \t32.4917\t169.943 \t2.68177\t1001.78\n",
      "28 \t17    \t121.941\t440.686 \t2.68177\t2000   \n",
      "29 \t16    \t47.6019\t207.259 \t2.68177\t1008.21\n",
      "30 \t9     \t17.5989\t121.187 \t2.68177\t1002.13\n",
      "31 \t16    \t92.1139\t413.069 \t2.68177\t2000   \n",
      "32 \t16    \t2.68177\t0       \t2.68177\t2.68177\n",
      "33 \t6     \t32.4925\t242.183 \t2.68177\t2000   \n",
      "34 \t11    \t32.4964\t169.777 \t2.68177\t1000.66\n",
      "35 \t13    \t32.5499\t170.275 \t2.68177\t1006.44\n",
      "36 \t8     \t32.4925\t242.183 \t2.68177\t2000   \n",
      "37 \t13    \t2.69406\t0.0998575\t2.68177\t3.50531\n",
      "38 \t12    \t17.5897\t121.113  \t2.68177\t1001.51\n",
      "39 \t15    \t32.4925\t242.183  \t2.68177\t2000   \n",
      "40 \t19    \t32.4925\t242.183  \t2.68177\t2000   \n",
      "41 \t15    \t17.6704\t121.768  \t2.68177\t1006.92\n",
      "42 \t16    \t2.68177\t0        \t2.68177\t2.68177\n",
      "43 \t15    \t32.5352\t242.178  \t2.68177\t2000   \n",
      "44 \t19    \t17.5834\t121.061  \t2.68177\t1001.09\n",
      "45 \t9     \t77.2034\t358.336  \t2.68177\t2000   \n",
      "46 \t21    \t47.3839\t269.074  \t2.68177\t2000   \n",
      "47 \t18    \t106.999\t305.409  \t2.68177\t1005.57\n",
      "48 \t21    \t240.972\t459.091  \t2.68177\t2000   \n",
      "49 \t12    \t2.68177\t0        \t2.68177\t2.68177\n",
      "50 \t15    \t32.4925\t242.183  \t2.68177\t2000   \n",
      "51 \t15    \t62.3032\t339.895  \t2.68177\t2000   \n",
      "52 \t10    \t32.542 \t242.178  \t2.68177\t2000   \n",
      "53 \t13    \t77.2155\t314.096  \t2.68177\t2000   \n",
      "54 \t16    \t62.3032\t339.895  \t2.68177\t2000   \n",
      "55 \t14    \t2.68177\t0        \t2.68177\t2.68177\n",
      "56 \t10    \t2.68177\t0        \t2.68177\t2.68177\n",
      "57 \t10    \t62.357 \t293.017  \t2.68177\t2000   \n",
      "58 \t13    \t47.4731\t269.391  \t2.68177\t2000   \n",
      "59 \t13    \t17.5684\t120.94   \t2.68177\t1000.09\n",
      "60 \t10    \t2.68177\t0        \t2.68177\t2.68177\n",
      "61 \t14    \t17.7434\t122.019  \t2.68177\t1009.03\n",
      "62 \t6     \t2.68177\t0        \t2.68177\t2.68177\n",
      "63 \t18    \t32.4571\t169.746  \t2.68177\t1000.23\n",
      "64 \t20    \t2.68177\t0        \t2.68177\t2.68177\n",
      "65 \t9     \t47.3918\t269.102  \t2.68177\t2000   \n",
      "66 \t17    \t32.5338\t242.179  \t2.68177\t2000   \n",
      "67 \t17    \t17.5814\t120.928  \t2.68177\t1000   \n",
      "68 \t14    \t106.948\t305.26   \t2.68177\t1004.57\n",
      "69 \t16    \t2.68177\t0        \t2.68177\t2.68177\n",
      "70 \t11    \t62.3712\t236.886  \t2.68177\t1007.52\n",
      "71 \t10    \t2.7169 \t0.285394 \t2.68177\t5.03545\n",
      "72 \t7     \t62.3032\t339.895  \t2.68177\t2000   \n",
      "73 \t15    \t2.71099\t0.237396 \t2.68177\t4.63961\n",
      "74 \t16    \t17.7089\t121.808  \t2.68177\t1007.28\n",
      "75 \t13    \t32.5905\t242.172  \t2.68177\t2000   \n",
      "76 \t13    \t47.3895\t269.094  \t2.68177\t2000   \n",
      "77 \t15    \t2.71568\t0.275432 \t2.68177\t4.95329\n",
      "78 \t17    \t32.4925\t242.183  \t2.68177\t2000   \n",
      "79 \t12    \t17.5978\t120.982  \t2.68177\t1000.46\n",
      "80 \t14    \t17.5777\t121.037  \t2.49982\t1000.89\n",
      "81 \t15    \t32.555 \t242.176  \t2.49982\t2000   \n",
      "82 \t15    \t47.4004\t206.567  \t2.49982\t1004.29\n",
      "83 \t24    \t121.884\t405.576  \t2.49982\t2000   \n",
      "84 \t19    \t62.1115\t292.755  \t2.49982\t2000   \n",
      "85 \t11    \t17.5121\t121.959  \t2.49982\t1008.32\n",
      "86 \t18    \t2.49982\t4.44089e-16\t2.49982\t2.49982\n",
      "87 \t16    \t32.3133\t242.205    \t2.49982\t2000   \n",
      "88 \t16    \t32.3133\t242.205    \t2.49982\t2000   \n",
      "89 \t18    \t32.3718\t170.09     \t2.49982\t1002.08\n",
      "90 \t12    \t62.1736\t236.823    \t2.49982\t1002.08\n",
      "91 \t14    \t390.222\t571.3      \t2.49982\t2000   \n",
      "92 \t10    \t32.3381\t170.105    \t2.49982\t1002.08\n",
      "93 \t8     \t106.99 \t305.917    \t2.49982\t1005.85\n",
      "94 \t14    \t375.32 \t593.815    \t2.49982\t2000   \n",
      "95 \t15    \t91.965 \t375.402    \t2.49982\t2000   \n",
      "96 \t13    \t17.4469\t121.431    \t2.49982\t1003.95\n",
      "97 \t13    \t2.53049\t0.226175   \t2.49982\t4.35765\n",
      "98 \t20    \t2.49982\t4.44089e-16\t2.49982\t2.49982\n",
      "99 \t11    \t47.2221\t269.155    \t2.49982\t2000   \n",
      "100\t16    \t17.3977\t121.031    \t2.49982\t1000.65\n",
      "Run stopped because of stopping criteria: Max ngen\n"
     ]
    },
    {
     "name": "stdout",
     "output_type": "stream",
     "text": [
      "\n"
     ]
    }
   ],
   "source": [
    "opt,obs_preds,df = public_opt(\n",
    "    a_cells['fi_curve'],\n",
    "    BPO_PARAMS,\n",
    "    'fi_curve',\n",
    "    \"ADEXP\",\n",
    "    100,\n",
    "    100,\n",
    "    \"IBEA\"\n",
    "    )"
   ]
  },
  {
   "cell_type": "code",
   "execution_count": null,
   "metadata": {},
   "outputs": [],
   "source": [
    "df\n"
   ]
  },
  {
   "cell_type": "code",
   "execution_count": null,
   "metadata": {},
   "outputs": [],
   "source": [
    "opt.attrs"
   ]
  },
  {
   "cell_type": "markdown",
   "metadata": {},
   "source": [
    "Allen Specimen ID: 623960880\n",
    "Four data fitting constraints:\n",
    "* RheobaseTest\t\n",
    "* TimeConstantTest\t\n",
    "* RestingPotentialTest\t\n",
    "* InputResistanceTest\t\n",
    "# Model Izhikevich"
   ]
  },
  {
   "cell_type": "code",
   "execution_count": 13,
   "metadata": {},
   "outputs": [
    {
     "name": "stderr",
     "output_type": "stream",
     "text": [
      "gen\tnevals\tavg    \tstd    \tmin    \tmax \n",
      "1  \t100   \t1408.55\t1109.79\t13.5395\t4000\n"
     ]
    },
    {
     "data": {
      "application/vnd.jupyter.widget-view+json": {
       "model_id": "69fbb555eaa24271ac34689a44c2b2e1",
       "version_major": 2,
       "version_minor": 0
      },
      "text/plain": [
       "HBox(children=(FloatProgress(value=0.0), HTML(value='')))"
      ]
     },
     "metadata": {},
     "output_type": "display_data"
    },
    {
     "name": "stderr",
     "output_type": "stream",
     "text": [
      "2  \t53    \t1352.04\t1096.48\t13.4028\t4000\n",
      "3  \t16    \t697.591\t460.871\t13.4028\t1010.7\n",
      "4  \t16    \t741.16 \t440.257\t13.4028\t1010.14\n",
      "5  \t16    \t533.576\t495.996\t13.4028\t1010.01\n",
      "6  \t16    \t651.509\t476.398\t13.4028\t1010.85\n",
      "7  \t15    \t666.81 \t471.208\t13.4028\t1009.47\n",
      "8  \t16    \t843.923\t367.78 \t13.4028\t1009.61\n",
      "9  \t16    \t784.843\t413.426\t13.1822\t1010.73\n",
      "10 \t15    \t681.169\t466.115\t13.1822\t1009.47\n",
      "11 \t18    \t903.729\t303.824\t13.1822\t1010.18\n",
      "12 \t13    \t859.146\t354.055\t13.1822\t1009.46\n",
      "13 \t9     \t858.562\t354.091\t13.1822\t1009.15\n",
      "14 \t12    \t992.221\t120.514\t13.1822\t1009.09\n",
      "15 \t17    \t932.83 \t261.165\t13.1822\t1008.73\n",
      "16 \t6     \t784.694\t591.293\t13.1822\t4000   \n",
      "17 \t6     \t294.844\t447.684\t13.1822\t1008.59\n",
      "18 \t12    \t739.553\t440.249\t13.1822\t1009.97\n",
      "19 \t17    \t976.451\t168.972\t13.1822\t1008.03\n",
      "20 \t6     \t917.221\t283.53 \t13.1822\t1008.92\n",
      "21 \t15    \t799.101\t584.025\t13.1822\t4000   \n",
      "22 \t12    \t383.564\t480.07 \t13.1822\t1009.55\n",
      "23 \t20    \t872.472\t338.492\t13.1822\t1009.67\n",
      "24 \t12    \t798.512\t403.626\t13.1822\t1009.36\n",
      "25 \t21    \t946.708\t235.228\t13.1822\t1009.02\n",
      "26 \t17    \t783.637\t413.801\t13.1822\t1009.29\n",
      "27 \t8     \t990.898\t120.352\t13.1822\t1009.69\n",
      "28 \t12    \t931.625\t260.821\t13.1822\t1006.83\n",
      "29 \t11    \t709.291\t454.125\t11.557 \t1008.21\n",
      "30 \t12    \t902.029\t303.997\t11.557 \t1009.44\n",
      "31 \t10    \t768.378\t423.784\t11.557 \t1008.85\n",
      "32 \t8     \t990.963\t120.558\t11.557 \t1008.44\n",
      "33 \t6     \t960.924\t205.546\t11.557 \t1006.82\n",
      "34 \t19    \t887.174\t322.423\t9.5905 \t1009.07\n",
      "35 \t18    \t753.796\t432.76 \t9.5905 \t1009.98\n",
      "36 \t11    \t961.081\t205.722\t9.5905 \t1008.37\n",
      "37 \t9     \t871.903\t339.338\t9.5905 \t1007.27\n",
      "38 \t17    \t991.199\t120.832\t9.5905 \t1009.34\n",
      "39 \t17    \t960.849\t205.955\t9.5905 \t1008.78\n",
      "40 \t15    \t827.322\t381.496\t9.5905 \t1006.82\n",
      "41 \t13    \t887.015\t322.372\t9.5905 \t1008.74\n",
      "42 \t9     \t768.554\t423.592\t9.5905 \t1009.56\n",
      "43 \t20    \t990.777\t120.777\t9.5905 \t1006.89\n",
      "44 \t15    \t961.046\t205.998\t9.5905 \t1008.64\n",
      "45 \t15    \t841.89 \t368.799\t9.5905 \t1008.87\n",
      "46 \t15    \t990.36 \t120.727\t9.5905 \t1006.83\n",
      "47 \t17    \t931.245\t261.734\t9.5905 \t1010.01\n",
      "48 \t11    \t886.706\t322.982\t9.5905 \t1009.51\n",
      "49 \t14    \t931.136\t261.703\t9.5905 \t1009.21\n",
      "50 \t11    \t930.949\t261.216\t9.5905 \t1006.77\n",
      "51 \t17    \t768.051\t424.318\t9.5905 \t1008.63\n",
      "52 \t13    \t960.949\t204.832\t9.5905 \t1006.46\n",
      "53 \t18    \t798.5  \t402.61 \t9.5905 \t1010.31\n",
      "54 \t14    \t693.765\t461.104\t9.5905 \t1009.01\n",
      "55 \t8     \t812.505\t391.784\t9.5905 \t1008.16\n",
      "56 \t14    \t752.193\t432.355\t9.5905 \t1007.69\n",
      "57 \t9     \t989.31 \t120.596\t9.5905 \t1007.22\n",
      "58 \t21    \t959.922\t205.756\t9.5905 \t1009.73\n",
      "59 \t18    \t826.172\t381.426\t9.5905 \t1008.22\n",
      "60 \t17    \t974.483\t169.255\t9.5905 \t1008.29\n",
      "61 \t25    \t929.962\t261.371\t9.5905 \t1009.36\n",
      "62 \t16    \t796.184\t404.276\t9.5905 \t1008.85\n",
      "63 \t12    \t988.762\t120.53 \t9.5905 \t1009.27\n",
      "64 \t20    \t944.338\t235.535\t9.5905 \t1007.17\n",
      "65 \t14    \t855.384\t551.137\t9.5905 \t4000   \n",
      "66 \t18    \t558.485\t494.186\t9.5905 \t1009.42\n",
      "67 \t20    \t900.317\t303.69 \t9.5905 \t1009.41\n",
      "68 \t17    \t811.177\t392.357\t9.5905 \t1008.79\n",
      "69 \t9     \t929.506\t260.723\t9.5905 \t1007.05\n",
      "70 \t9     \t811.018\t392.207\t9.5905 \t1008.81\n",
      "71 \t20    \t885.72 \t321.808\t9.5905 \t1008.22\n",
      "72 \t16    \t900.616\t303.459\t9.5905 \t1010.08\n",
      "73 \t15    \t781.505\t413.077\t9.5905 \t1009.45\n",
      "74 \t12    \t707.316\t453.648\t9.5905 \t1006.95\n",
      "75 \t13    \t899.409\t303.118\t9.5905 \t1006.95\n",
      "76 \t15    \t840.72 \t367.696\t9.5905 \t1009.31\n",
      "77 \t18    \t855.854\t353.679\t9.5905 \t1009.09\n",
      "78 \t15    \t752.017\t432.003\t9.5905 \t1009.09\n",
      "79 \t15    \t959.386\t205.411\t9.5905 \t1007.62\n",
      "80 \t10    \t781.281\t413.649\t9.5905 \t1006.95\n",
      "81 \t17    \t988.436\t120.501\t9.5905 \t1006.95\n",
      "82 \t14    \t959.699\t205.711\t9.5905 \t1006.95\n",
      "83 \t11    \t901.221\t304.556\t9.5905 \t1009.39\n",
      "84 \t19    \t944.592\t235.605\t9.5905 \t1008.21\n",
      "85 \t17    \t825.268\t380.968\t9.5905 \t1008.79\n",
      "86 \t17    \t914.017\t283.654\t9.5905 \t1009.2 \n",
      "87 \t20    \t736.785\t440.751\t9.5905 \t1009.46\n",
      "88 \t8     \t929.177\t261.147\t9.5905 \t1008.71\n",
      "89 \t12    \t854.736\t353.995\t9.5905 \t1008.37\n",
      "90 \t10    \t958.767\t205.505\t9.5905 \t1006.69\n",
      "91 \t13    \t869.66 \t338.801\t9.5905 \t1009.16\n",
      "92 \t12    \t691.731\t460.899\t9.5905 \t1008.9 \n",
      "93 \t13    \t987.888\t120.429\t9.5905 \t1008.66\n",
      "94 \t11    \t959.263\t205.62 \t9.5905 \t1009.41\n",
      "95 \t8     \t856.076\t354.561\t9.5905 \t1009.53\n",
      "96 \t11    \t855.039\t354.123\t9.5905 \t1009.14\n",
      "97 \t16    \t618.396\t484.815\t9.5905 \t1009.06\n",
      "98 \t10    \t989.01 \t120.57 \t9.5905 \t1008.93\n",
      "99 \t5     \t899.928\t304.11 \t9.5905 \t1005.16\n",
      "100\t12    \t766.11 \t423.74 \t9.5905 \t1009.67\n",
      "Run stopped because of stopping criteria: Max ngen\n"
     ]
    },
    {
     "name": "stdout",
     "output_type": "stream",
     "text": [
      "\n"
     ]
    }
   ],
   "source": [
    "\n",
    "opt,obs_preds,df = public_opt(\n",
    "    allen_suite_623960880.tests,\n",
    "    BPO_PARAMS,\n",
    "    allen_suite_623960880.name,\n",
    "    \"IZHI\",\n",
    "    100,\n",
    "    100,\n",
    "    \"IBEA\"\n",
    "    )"
   ]
  },
  {
   "cell_type": "code",
   "execution_count": null,
   "metadata": {},
   "outputs": [],
   "source": [
    "df"
   ]
  },
  {
   "cell_type": "code",
   "execution_count": null,
   "metadata": {},
   "outputs": [],
   "source": [
    "opt.attrs"
   ]
  },
  {
   "cell_type": "code",
   "execution_count": null,
   "metadata": {},
   "outputs": [],
   "source": []
  }
 ],
 "metadata": {
  "kernelspec": {
   "display_name": "Python 3",
   "language": "python",
   "name": "python3"
  },
  "language_info": {
   "codemirror_mode": {
    "name": "ipython",
    "version": 3
   },
   "file_extension": ".py",
   "mimetype": "text/x-python",
   "name": "python",
   "nbconvert_exporter": "python",
   "pygments_lexer": "ipython3",
   "version": "3.7.4"
  }
 },
 "nbformat": 4,
 "nbformat_minor": 2
}
