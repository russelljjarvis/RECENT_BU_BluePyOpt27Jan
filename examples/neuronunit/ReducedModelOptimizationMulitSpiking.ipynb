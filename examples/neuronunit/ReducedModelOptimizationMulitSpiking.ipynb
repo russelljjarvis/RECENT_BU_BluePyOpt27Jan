{
 "cells": [
  {
   "cell_type": "code",
   "execution_count": 1,
   "metadata": {},
   "outputs": [
    {
     "name": "stderr",
     "output_type": "stream",
     "text": [
      "test\n"
     ]
    }
   ],
   "source": [
    "%matplotlib inline\n",
    "SILENT = True\n",
    "import warnings\n",
    "if SILENT:\n",
    "    warnings.filterwarnings(\"ignore\")\n",
    "import matplotlib\n",
    "matplotlib.use('Agg')\n",
    "from neuronunit.plotting.plot_utils import check_bin_vm_soma\n",
    "from nb_utils import optimize_job\n",
    "from sciunit.scores import RelativeDifferenceScore\n",
    "import pandas as pd\n",
    "from neuronunit.optimization.optimization_management import basic_expVar\n",
    "\n",
    "efel_filter_list = [\n",
    "    \"ISI_log_slope\",\n",
    "    \"mean_frequency\",\n",
    "    \"adaptation_index2\",\n",
    "    \"first_isi\",\n",
    "    \"ISI_CV\",\n",
    "    \"median_isi\",\n",
    "    \"Spikecount\",\n",
    "    \"all_ISI_values\",\n",
    "    \"ISI_values\",\n",
    "    \"time_to_first_spike\",\n",
    "    \"time_to_last_spike\",\n",
    "    \"time_to_second_spike\",\n",
    "    'peak_voltage',\n",
    "    \"peak_voltage\",\n",
    "    \"base_voltage\",\n",
    "    \"AHP_depth\",\n",
    "    \"AHP_depth_abs\",\n",
    "    \"base_voltage\"]\n"
   ]
  },
  {
   "cell_type": "code",
   "execution_count": 2,
   "metadata": {},
   "outputs": [],
   "source": [
    "def test_opt_relative_diff(specimen_id,model_type = \"ADEXP\",efel_filter_list=None):    \n",
    "    _,scores,obs_preds,opt,target = optimize_job(specimen_id,\n",
    "                                                 model_type,\n",
    "                                                 score_type=RelativeDifferenceScore,\n",
    "                                                 efel_filter_list=efel_filter_list)\n",
    "    return obs_preds,opt,target\n"
   ]
  },
  {
   "cell_type": "code",
   "execution_count": 3,
   "metadata": {
    "slideshow": {
     "slide_type": "slide"
    }
   },
   "outputs": [
    {
     "name": "stderr",
     "output_type": "stream",
     "text": [
      "gen\tnevals\tavg    \tstd    \tmin    \tmax  \n",
      "1  \t20    \t5995.93\t8103.59\t33.5067\t22000\n"
     ]
    },
    {
     "data": {
      "application/vnd.jupyter.widget-view+json": {
       "model_id": "7eaaa297a138415b92d2e9d5e3e98539",
       "version_major": 2,
       "version_minor": 0
      },
      "text/plain": [
       "HBox(children=(FloatProgress(value=0.0), HTML(value='')))"
      ]
     },
     "metadata": {},
     "output_type": "display_data"
    },
    {
     "name": "stderr",
     "output_type": "stream",
     "text": [
      "2  \t11    \t6000.42\t8234.61\t31.7359\t22000\n",
      "3  \t3     \t35.7763\t2.81983\t31.7359\t40.3686\n",
      "4  \t0     \t33.3446\t1.46855\t31.7359\t34.6852\n",
      "5  \t2     \t32.5376\t1.99233\t28.2116\t35.2312\n",
      "6  \t3     \t31.6035\t2.65222\t28.2116\t35.2312\n",
      "7  \t1     \t31.8677\t2.48511\t28.2116\t34.6852\n",
      "8  \t2     \t31.5145\t3.11333\t28.2116\t36.0908\n",
      "9  \t2     \t32.0993\t2.44464\t28.2116\t34.6852\n",
      "10 \t2     \t34.0967\t1.86103\t28.2116\t34.6852\n",
      "11 \t2     \t32.9197\t2.88309\t28.2116\t34.6852\n",
      "12 \t2     \t31.7426\t3.2234 \t28.2116\t34.6852\n",
      "13 \t4     \t30.6467\t4.08396\t28.2116\t38.8569\n",
      "14 \t2     \t29.9693\t3.72879\t28.2116\t37.8793\n",
      "15 \t2     \t33.053 \t5.30839\t24.0222\t37.8793\n",
      "16 \t4     \t27.1723\t1.7196 \t24.0222\t28.2116\n",
      "17 \t4     \t24.4508\t1.22936\t21.376 \t26.489 \n",
      "18 \t3     \t24.4348\t2.12403\t21.376 \t27.376 \n",
      "19 \t4     \t24.4533\t1.96153\t21.376 \t27.376 \n",
      "20 \t0     \t23.9886\t1.23635\t21.376 \t26.0451\n",
      "21 \t2     \t24.5877\t1.66322\t21.376 \t26.7758\n",
      "22 \t2     \t23.9951\t1.02161\t21.376 \t25.2802\n",
      "23 \t2     \t23.4924\t1.46863\t21.376 \t24.7537\n",
      "24 \t2     \t22.8121\t1.1183 \t21.376 \t24.7537\n",
      "25 \t3     \t23.248 \t1.60035\t21.376 \t25.4434\n",
      "26 \t2     \t47.7346\t77.0063\t20.7179\t291.189\n",
      "27 \t2     \t167.336\t133.825\t20.3256\t291.189\n",
      "28 \t2     \t71.0552\t103.793\t20.3256\t291.189\n",
      "29 \t2     \t138.242\t296.588\t20.3256\t1043.65\n",
      "30 \t4     \t194.831\t127.574\t20.3256\t291.189\n",
      "31 \t2     \t168.66 \t133.99 \t20.3256\t291.189\n",
      "32 \t4     \t94.3063\t119.767\t19.2168\t289.877\n",
      "33 \t2     \t21.3851\t2.72436\t19.2168\t27.6567\n",
      "34 \t2     \t25.0382\t3.35045\t19.2168\t27.6567\n",
      "35 \t4     \t20.5199\t2.46164\t19.2168\t26.2835\n",
      "36 \t0     \t21.7865\t3.39939\t19.2168\t26.2835\n",
      "37 \t2     \t23.1915\t3.30803\t19.2168\t26.2835\n",
      "38 \t5     \t21.5591\t3.29063\t16.9871\t25.5651\n",
      "39 \t0     \t19.3754\t2.5807 \t16.9871\t23.9068\n",
      "40 \t4     \t20.4498\t2.41971\t16.9871\t24.0241\n",
      "41 \t4     \t20.0186\t2.99219\t16.9871\t25.5915\n",
      "42 \t1     \t21.2667\t3.75723\t16.9871\t27.1874\n",
      "43 \t1     \t20.15  \t2.31775\t16.9871\t27.0448\n",
      "44 \t2     \t60.2736\t126.899\t16.9871\t461.389\n",
      "45 \t4     \t21.0792\t3.49036\t16.9871\t30.9765\n",
      "46 \t0     \t23.1859\t4.09899\t16.9871\t30.9765\n",
      "47 \t2     \t24.2506\t6.57964\t16.9871\t33.8934\n",
      "48 \t3     \t29.7741\t4.87413\t16.9871\t33.8934\n",
      "49 \t4     \t22.7731\t5.61095\t16.9871\t30.2435\n",
      "50 \t2     \t28.318 \t3.61059\t16.9871\t30.1129\n",
      "51 \t2     \t24.2162\t5.52508\t16.9871\t29.301 \n",
      "52 \t3     \t26.0879\t3.60259\t16.9871\t31.1995\n",
      "53 \t2     \t20.4536\t3.99857\t16.9871\t26.3004\n",
      "54 \t4     \t23.4991\t3.0312 \t16.9871\t26.3004\n",
      "55 \t4     \t21.3141\t3.69262\t16.2828\t26.4366\n",
      "56 \t4     \t21.2629\t3.15486\t16.2828\t25.7197\n",
      "57 \t0     \t18.0122\t3.63339\t16.2828\t25.7197\n",
      "58 \t2     \t21.437 \t4.69148\t16.2828\t25.7197\n",
      "59 \t2     \t16.3032\t0.0186262\t16.2828\t16.3202\n",
      "60 \t4     \t16.5118\t0.559182 \t16.2828\t18.2079\n",
      "61 \t4     \t16.704 \t0.75616  \t16.2828\t18.7101\n",
      "62 \t4     \t17.7468\t2.75881  \t14.9797\t25.9635\n",
      "63 \t4     \t18.7775\t4.42048  \t14.9797\t29.2331\n",
      "64 \t2     \t18.3727\t3.83651  \t14.9797\t25.9635\n",
      "65 \t2     \t19.0118\t5.55319  \t14.9797\t34.2853\n",
      "66 \t2     \t23.3543\t6.52141  \t14.9797\t34.2853\n",
      "67 \t2     \t24.0282\t8.45764  \t14.9797\t34.2853\n",
      "68 \t0     \t24.5537\t5.83267  \t14.9797\t34.2853\n",
      "69 \t2     \t22.7866\t8.71957  \t14.9797\t40.529 \n",
      "70 \t4     \t121.784\t292.405  \t14.9797\t1046.07\n",
      "71 \t4     \t26.8894\t9.76588  \t14.9797\t40.529 \n",
      "72 \t2     \t31.1264\t6.26352  \t14.9797\t40.529 \n",
      "73 \t0     \t26.8305\t11.2879  \t14.9797\t39.7913\n",
      "74 \t0     \t33.0245\t11.0501  \t14.9797\t39.7913\n",
      "75 \t5     \t24.9632\t11.591   \t14.9797\t39.7913\n",
      "76 \t4     \t32.7472\t8.50271  \t14.9797\t39.7913\n",
      "77 \t4     \t24.7397\t10.8471  \t14.9797\t44.119 \n",
      "78 \t0     \t29.5462\t7.76639  \t14.9797\t44.119 \n",
      "79 \t2     \t37.3273\t9.73561  \t14.9797\t44.119 \n",
      "80 \t4     \t26.96  \t10.0912  \t14.9797\t44.119 \n",
      "81 \t2     \t26.0258\t5.92931  \t14.9797\t32.8336\n",
      "82 \t4     \t28.2536\t5.5319   \t14.9797\t32.8336\n",
      "83 \t0     \t18.8306\t5.09999  \t14.9797\t25.9712\n",
      "84 \t4     \t23.7595\t4.20304  \t14.9797\t27.1731\n",
      "85 \t2     \t20.4876\t5.14569  \t14.9797\t27.1731\n",
      "86 \t0     \t24.9215\t3.46985  \t14.9797\t27.1731\n",
      "87 \t1     \t23.6206\t3.02664  \t14.9797\t28.58  \n",
      "88 \t0     \t25.6889\t3.99829  \t14.9797\t28.58  \n",
      "89 \t4     \t18.2706\t4.35343  \t14.9797\t24.0296\n",
      "90 \t2     \t23.2069\t2.60167  \t14.9797\t24.0296\n",
      "91 \t2     \t23.2069\t2.60167  \t14.9797\t24.0296\n",
      "92 \t2     \t23.2069\t2.60167  \t14.9797\t24.0296\n",
      "93 \t4     \t21.6734\t3.98978  \t14.9797\t24.692 \n",
      "94 \t4     \t18.3991\t3.38113  \t14.9797\t24.692 \n",
      "95 \t4     \t20.1507\t4.37289  \t14.9797\t29.3991\n",
      "96 \t4     \t23.3015\t5.08775  \t14.9797\t29.3991\n",
      "97 \t2     \t20.0866\t4.07879  \t14.9797\t28.1104\n",
      "98 \t4     \t21.7609\t5.09346  \t14.9797\t28.9719\n",
      "99 \t2     \t24.6455\t4.41685  \t14.9797\t28.1104\n",
      "100\t4     \t17.3905\t4.85239  \t14.9797\t28.1104\n",
      "Run stopped because of stopping criteria: Max ngen\n"
     ]
    },
    {
     "name": "stdout",
     "output_type": "stream",
     "text": [
      "\n"
     ]
    }
   ],
   "source": [
    "\n",
    "obs_preds,opt,target = test_opt_relative_diff(specimen_id = 325479788,efel_filter_list=efel_filter_list)\n"
   ]
  },
  {
   "cell_type": "code",
   "execution_count": 4,
   "metadata": {},
   "outputs": [
    {
     "data": {
      "image/png": "[encoded data removed]",
      "text/plain": [
       "<Figure size 432x288 with 1 Axes>"
      ]
     },
     "metadata": {},
     "output_type": "display_data"
    }
   ],
   "source": [
    "\n",
    "check_bin_vm_soma(target,opt)"
   ]
  },
  {
   "cell_type": "code",
   "execution_count": 6,
   "metadata": {},
   "outputs": [
    {
     "data": {
      "text/plain": [
       "{'cm': 224.03738140074924,\n",
       " 'v_spike': -54.83254522275011,\n",
       " 'v_reset': -59.646021472654716,\n",
       " 'v_rest': -61.51047631316494,\n",
       " 'tau_m': 25.964811813103214,\n",
       " 'a': 4.227860468792305,\n",
       " 'b': 2.3257790634947693,\n",
       " 'delta_T': 7.565104057510465,\n",
       " 'tau_w': 268.4435185024462,\n",
       " 'v_thresh': -45.49080935667071,\n",
       " 'spike_delta': 45.80428694015201}"
      ]
     },
     "execution_count": 6,
     "metadata": {},
     "output_type": "execute_result"
    }
   ],
   "source": [
    "\n",
    "opt.attrs"
   ]
  },
  {
   "cell_type": "code",
   "execution_count": 7,
   "metadata": {},
   "outputs": [
    {
     "data": {
      "text/html": [
       "<div>\n",
       "<style scoped>\n",
       "    .dataframe tbody tr th:only-of-type {\n",
       "        vertical-align: middle;\n",
       "    }\n",
       "\n",
       "    .dataframe tbody tr th {\n",
       "        vertical-align: top;\n",
       "    }\n",
       "\n",
       "    .dataframe thead th {\n",
       "        text-align: right;\n",
       "    }\n",
       "</style>\n",
       "<table border=\"1\" class=\"dataframe\">\n",
       "  <thead>\n",
       "    <tr style=\"text-align: right;\">\n",
       "      <th></th>\n",
       "      <th>0</th>\n",
       "      <th>1</th>\n",
       "      <th>2</th>\n",
       "      <th>3</th>\n",
       "    </tr>\n",
       "  </thead>\n",
       "  <tbody>\n",
       "    <tr>\n",
       "      <th>0</th>\n",
       "      <td>ISI_log_slope</td>\n",
       "      <td>0.485704</td>\n",
       "      <td>0.534559</td>\n",
       "      <td>Relative Difference = 0.05</td>\n",
       "    </tr>\n",
       "    <tr>\n",
       "      <th>1</th>\n",
       "      <td>mean_frequency</td>\n",
       "      <td>10.086294</td>\n",
       "      <td>10.089686</td>\n",
       "      <td>Relative Difference = 0.00</td>\n",
       "    </tr>\n",
       "    <tr>\n",
       "      <th>2</th>\n",
       "      <td>adaptation_index2</td>\n",
       "      <td>0.091943</td>\n",
       "      <td>0.099528</td>\n",
       "      <td>Relative Difference = 0.01</td>\n",
       "    </tr>\n",
       "    <tr>\n",
       "      <th>3</th>\n",
       "      <td>ISI_CV</td>\n",
       "      <td>0.476055</td>\n",
       "      <td>0.474955</td>\n",
       "      <td>Relative Difference = 0.00</td>\n",
       "    </tr>\n",
       "    <tr>\n",
       "      <th>4</th>\n",
       "      <td>Spikecount</td>\n",
       "      <td>9.000000</td>\n",
       "      <td>9.000000</td>\n",
       "      <td>Relative Difference = 0.00</td>\n",
       "    </tr>\n",
       "    <tr>\n",
       "      <th>5</th>\n",
       "      <td>all_ISI_values</td>\n",
       "      <td>102.212500</td>\n",
       "      <td>104.475000</td>\n",
       "      <td>Relative Difference = 2.26</td>\n",
       "    </tr>\n",
       "    <tr>\n",
       "      <th>6</th>\n",
       "      <td>ISI_values</td>\n",
       "      <td>108.400000</td>\n",
       "      <td>110.971429</td>\n",
       "      <td>Relative Difference = 2.57</td>\n",
       "    </tr>\n",
       "    <tr>\n",
       "      <th>7</th>\n",
       "      <td>time_to_first_spike</td>\n",
       "      <td>74.600000</td>\n",
       "      <td>56.200000</td>\n",
       "      <td>Relative Difference = 18.40</td>\n",
       "    </tr>\n",
       "    <tr>\n",
       "      <th>8</th>\n",
       "      <td>time_to_last_spike</td>\n",
       "      <td>892.300000</td>\n",
       "      <td>892.000000</td>\n",
       "      <td>Relative Difference = 0.30</td>\n",
       "    </tr>\n",
       "    <tr>\n",
       "      <th>9</th>\n",
       "      <td>time_to_second_spike</td>\n",
       "      <td>133.500000</td>\n",
       "      <td>115.200000</td>\n",
       "      <td>Relative Difference = 18.30</td>\n",
       "    </tr>\n",
       "    <tr>\n",
       "      <th>10</th>\n",
       "      <td>peak_voltage</td>\n",
       "      <td>33.027779</td>\n",
       "      <td>35.658926</td>\n",
       "      <td>Relative Difference = 2.63</td>\n",
       "    </tr>\n",
       "    <tr>\n",
       "      <th>11</th>\n",
       "      <td>AHP_depth</td>\n",
       "      <td>24.579199</td>\n",
       "      <td>1.234568</td>\n",
       "      <td>Relative Difference = 23.34</td>\n",
       "    </tr>\n",
       "    <tr>\n",
       "      <th>12</th>\n",
       "      <td>AHP_depth_abs</td>\n",
       "      <td>-55.208334</td>\n",
       "      <td>-59.542350</td>\n",
       "      <td>Relative Difference = 4.33</td>\n",
       "    </tr>\n",
       "    <tr>\n",
       "      <th>13</th>\n",
       "      <td>spike_0</td>\n",
       "      <td>1.074385</td>\n",
       "      <td>1.056250</td>\n",
       "      <td>Relative Difference = 0.02</td>\n",
       "    </tr>\n",
       "    <tr>\n",
       "      <th>14</th>\n",
       "      <td>spike_1</td>\n",
       "      <td>1.133280</td>\n",
       "      <td>1.115250</td>\n",
       "      <td>Relative Difference = 0.02</td>\n",
       "    </tr>\n",
       "    <tr>\n",
       "      <th>15</th>\n",
       "      <td>spike_2</td>\n",
       "      <td>1.203080</td>\n",
       "      <td>1.180000</td>\n",
       "      <td>Relative Difference = 0.02</td>\n",
       "    </tr>\n",
       "    <tr>\n",
       "      <th>16</th>\n",
       "      <td>spike_3</td>\n",
       "      <td>1.274420</td>\n",
       "      <td>1.252000</td>\n",
       "      <td>Relative Difference = 0.02</td>\n",
       "    </tr>\n",
       "    <tr>\n",
       "      <th>17</th>\n",
       "      <td>spike_4</td>\n",
       "      <td>1.350750</td>\n",
       "      <td>1.333000</td>\n",
       "      <td>Relative Difference = 0.02</td>\n",
       "    </tr>\n",
       "    <tr>\n",
       "      <th>18</th>\n",
       "      <td>spike_5</td>\n",
       "      <td>1.440345</td>\n",
       "      <td>1.426250</td>\n",
       "      <td>Relative Difference = 0.01</td>\n",
       "    </tr>\n",
       "    <tr>\n",
       "      <th>19</th>\n",
       "      <td>spike_6</td>\n",
       "      <td>1.541740</td>\n",
       "      <td>1.536750</td>\n",
       "      <td>Relative Difference = 0.00</td>\n",
       "    </tr>\n",
       "    <tr>\n",
       "      <th>20</th>\n",
       "      <td>spike_7</td>\n",
       "      <td>1.679645</td>\n",
       "      <td>1.676250</td>\n",
       "      <td>Relative Difference = 0.00</td>\n",
       "    </tr>\n",
       "    <tr>\n",
       "      <th>21</th>\n",
       "      <td>spike_8</td>\n",
       "      <td>1.891995</td>\n",
       "      <td>1.892000</td>\n",
       "      <td>Relative Difference = 0.00</td>\n",
       "    </tr>\n",
       "  </tbody>\n",
       "</table>\n",
       "</div>"
      ],
      "text/plain": [
       "                       0           1           2                            3\n",
       "0          ISI_log_slope    0.485704    0.534559   Relative Difference = 0.05\n",
       "1         mean_frequency   10.086294   10.089686   Relative Difference = 0.00\n",
       "2      adaptation_index2    0.091943    0.099528   Relative Difference = 0.01\n",
       "3                 ISI_CV    0.476055    0.474955   Relative Difference = 0.00\n",
       "4             Spikecount    9.000000    9.000000   Relative Difference = 0.00\n",
       "5         all_ISI_values  102.212500  104.475000   Relative Difference = 2.26\n",
       "6             ISI_values  108.400000  110.971429   Relative Difference = 2.57\n",
       "7    time_to_first_spike   74.600000   56.200000  Relative Difference = 18.40\n",
       "8     time_to_last_spike  892.300000  892.000000   Relative Difference = 0.30\n",
       "9   time_to_second_spike  133.500000  115.200000  Relative Difference = 18.30\n",
       "10          peak_voltage   33.027779   35.658926   Relative Difference = 2.63\n",
       "11             AHP_depth   24.579199    1.234568  Relative Difference = 23.34\n",
       "12         AHP_depth_abs  -55.208334  -59.542350   Relative Difference = 4.33\n",
       "13               spike_0    1.074385    1.056250   Relative Difference = 0.02\n",
       "14               spike_1    1.133280    1.115250   Relative Difference = 0.02\n",
       "15               spike_2    1.203080    1.180000   Relative Difference = 0.02\n",
       "16               spike_3    1.274420    1.252000   Relative Difference = 0.02\n",
       "17               spike_4    1.350750    1.333000   Relative Difference = 0.02\n",
       "18               spike_5    1.440345    1.426250   Relative Difference = 0.01\n",
       "19               spike_6    1.541740    1.536750   Relative Difference = 0.00\n",
       "20               spike_7    1.679645    1.676250   Relative Difference = 0.00\n",
       "21               spike_8    1.891995    1.892000   Relative Difference = 0.00"
      ]
     },
     "execution_count": 7,
     "metadata": {},
     "output_type": "execute_result"
    }
   ],
   "source": [
    "df = pd.DataFrame(obs_preds)\n",
    "df"
   ]
  },
  {
   "cell_type": "code",
   "execution_count": null,
   "metadata": {},
   "outputs": [],
   "source": [
    "obs_preds,opt,target = test_opt_relative_diff(specimen_id = 325479788,model_type=\"IZHI\",efel_filter_list=efel_filter_list)"
   ]
  },
  {
   "cell_type": "code",
   "execution_count": null,
   "metadata": {},
   "outputs": [],
   "source": [
    "\n",
    "df = pd.DataFrame(obs_preds)\n",
    "df"
   ]
  },
  {
   "cell_type": "code",
   "execution_count": null,
   "metadata": {},
   "outputs": [],
   "source": [
    "check_bin_vm_soma(target,opt)"
   ]
  },
  {
   "cell_type": "code",
   "execution_count": null,
   "metadata": {},
   "outputs": [],
   "source": [
    "\n",
    "opt.attrs"
   ]
  },
  {
   "cell_type": "code",
   "execution_count": null,
   "metadata": {},
   "outputs": [],
   "source": []
  },
  {
   "cell_type": "code",
   "execution_count": null,
   "metadata": {},
   "outputs": [],
   "source": []
  }
 ],
 "metadata": {
  "kernelspec": {
   "display_name": "Python 3",
   "language": "python",
   "name": "python3"
  },
  "language_info": {
   "codemirror_mode": {
    "name": "ipython",
    "version": 3
   },
   "file_extension": ".py",
   "mimetype": "text/x-python",
   "name": "python",
   "nbconvert_exporter": "python",
   "pygments_lexer": "ipython3",
   "version": "3.7.4"
  }
 },
 "nbformat": 4,
 "nbformat_minor": 2
}
