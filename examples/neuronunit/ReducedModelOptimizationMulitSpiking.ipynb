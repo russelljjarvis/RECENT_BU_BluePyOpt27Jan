{
 "cells": [
  {
   "cell_type": "code",
   "execution_count": 1,
   "metadata": {},
   "outputs": [
    {
     "name": "stderr",
     "output_type": "stream",
     "text": [
      "test\n"
     ]
    }
   ],
   "source": [
    "%matplotlib inline\n",
    "SILENT = True\n",
    "import warnings\n",
    "if SILENT:\n",
    "    warnings.filterwarnings(\"ignore\")\n",
    "import matplotlib\n",
    "matplotlib.use('Agg')\n",
    "from neuronunit.plotting.plot_utils import check_bin_vm_soma\n",
    "from nb_utils import optimize_job\n",
    "from sciunit.scores import RelativeDifferenceScore\n",
    "import pandas as pd\n",
    "import quantities as qt\n",
    "efel_filter_iterable = [\n",
    "    \"ISI_log_slope\",\n",
    "    \"mean_frequency\",\n",
    "    \"adaptation_index2\",\n",
    "    \"first_isi\",\n",
    "    \"ISI_CV\",\n",
    "    \"median_isi\",\n",
    "    \"Spikecount\",\n",
    "    \"all_ISI_values\",\n",
    "    \"ISI_values\",\n",
    "    \"time_to_first_spike\",\n",
    "    \"time_to_last_spike\",\n",
    "    \"time_to_second_spike\",\n",
    "    \"peak_voltage\",\n",
    "    \"base_voltage\",\n",
    "    \"AHP_depth\",\n",
    "    \"AHP_depth_abs\",\n",
    "    \"base_voltage\"\n",
    "    ]\n"
   ]
  },
  {
   "cell_type": "code",
   "execution_count": 2,
   "metadata": {},
   "outputs": [],
   "source": [
    "def test_opt_relative_diff(specimen_id,model_type = \"ADEXP\",efel_filter_iterable=None):    \n",
    "    _,scores,obs_preds,opt,target = optimize_job(specimen_id,\n",
    "                                                 model_type,\n",
    "                                                 score_type=RelativeDifferenceScore,\n",
    "                                                 efel_filter_iterable=efel_filter_iterable)\n",
    "    return obs_preds,opt,target\n"
   ]
  },
  {
   "cell_type": "code",
   "execution_count": null,
   "metadata": {
    "slideshow": {
     "slide_type": "slide"
    }
   },
   "outputs": [
    {
     "name": "stderr",
     "output_type": "stream",
     "text": [
      "gen\tnevals\tavg    \tstd    \tmin    \tmax  \n",
      "1  \t55    \t3111.13\t4828.65\t23.0602\t13000\n"
     ]
    },
    {
     "data": {
      "application/vnd.jupyter.widget-view+json": {
       "model_id": "4b5a741c4ea64002866207a8f20877ad",
       "version_major": 2,
       "version_minor": 0
      },
      "text/plain": [
       "HBox(children=(FloatProgress(value=0.0, max=200.0), HTML(value='')))"
      ]
     },
     "metadata": {},
     "output_type": "display_data"
    },
    {
     "name": "stderr",
     "output_type": "stream",
     "text": [
      "2  \t29    \t3238.7 \t4915.16\t22.078 \t13000\n",
      "3  \t6     \t31.4077\t4.5448 \t22.078 \t36.2831\n",
      "4  \t5     \t27.7809\t4.20363\t22.078 \t35.4365\n",
      "5  \t7     \t27.9079\t5.59242\t22.078 \t35.4365\n",
      "6  \t8     \t30.6939\t4.99343\t19.2011\t36.8533\n",
      "7  \t9     \t27.5196\t5.8109 \t19.2011\t36.8728\n",
      "8  \t8     \t399.537\t1339.27\t19.2011\t6030.93\n",
      "9  \t10    \t471.314\t1572.5 \t19.2011\t6030.93\n",
      "10 \t6     \t472.294\t1572.22\t19.2011\t6030.93\n",
      "11 \t7     \t654.99 \t2326.43\t17.554 \t11014.8\n",
      "12 \t6     \t22.2523\t4.18436\t17.554 \t28.78  \n",
      "13 \t6     \t23.9934\t3.74108\t17.554 \t29.8869\n",
      "14 \t8     \t25.2535\t4.2571 \t17.554 \t33.0643\n",
      "15 \t10    \t24.542 \t4.72077\t17.554 \t33.0643\n",
      "16 \t8     \t24.9177\t6.07702\t17.3903\t33.3688\n",
      "17 \t4     \t28.4594\t5.35324\t17.3903\t33.3688\n",
      "18 \t6     \t23.6442\t5.69172\t13.6605\t32.2565\n",
      "19 \t8     \t22.6477\t5.25922\t13.6605\t31.3554\n",
      "20 \t2     \t24.3204\t6.23401\t13.6605\t31.3554\n",
      "21 \t10    \t21.5527\t4.32524\t13.6605\t28.2353\n",
      "22 \t11    \t20.1365\t5.33012\t13.6605\t27.8238\n",
      "23 \t4     \t20.2523\t4.07753\t13.6605\t26.1975\n",
      "24 \t10    \t18.7315\t3.24482\t13.6605\t26.1672\n",
      "25 \t9     \t18.9875\t4.36473\t13.6605\t26.7352\n",
      "26 \t8     \t17.227 \t2.65874\t13.1836\t25.2684\n",
      "27 \t5     \t16.8944\t2.67544\t13.021 \t25.42  \n",
      "28 \t5     \t17.2881\t1.83825\t13.021 \t21.0915\n",
      "29 \t8     \t16.8572\t2.79782\t12.9562\t23.7378\n",
      "30 \t8     \t16.8348\t3.36775\t7.71529\t21.0915\n",
      "31 \t6     \t15.149 \t4.35223\t7.61004\t19.8724\n",
      "32 \t7     \t17.1416\t3.80322\t7.61004\t28.2003\n",
      "33 \t6     \t17.8943\t5.52794\t7.61004\t28.2003\n",
      "34 \t11    \t17.5587\t5.09992\t7.61004\t28.4763\n",
      "35 \t10    \t18.7426\t6.63236\t7.61004\t28.2003\n"
     ]
    }
   ],
   "source": [
    "\n",
    "obs_preds,opt,target = test_opt_relative_diff(specimen_id = 325479788,efel_filter_iterable=efel_filter_iterable)\n"
   ]
  },
  {
   "cell_type": "code",
   "execution_count": null,
   "metadata": {},
   "outputs": [],
   "source": [
    "\n",
    "check_bin_vm_soma(target,opt)"
   ]
  },
  {
   "cell_type": "code",
   "execution_count": null,
   "metadata": {},
   "outputs": [],
   "source": [
    "\n",
    "opt.attrs"
   ]
  },
  {
   "cell_type": "code",
   "execution_count": null,
   "metadata": {},
   "outputs": [],
   "source": [
    "df = pd.DataFrame(obs_preds)\n",
    "df"
   ]
  },
  {
   "cell_type": "code",
   "execution_count": null,
   "metadata": {},
   "outputs": [],
   "source": [
    "obs_preds,opt,target = test_opt_relative_diff(specimen_id = 325479788,model_type=\"IZHI\",efel_filter_list=efel_filter_list)"
   ]
  },
  {
   "cell_type": "code",
   "execution_count": null,
   "metadata": {},
   "outputs": [],
   "source": [
    "\n",
    "df = pd.DataFrame(obs_preds)\n",
    "df"
   ]
  },
  {
   "cell_type": "code",
   "execution_count": null,
   "metadata": {},
   "outputs": [],
   "source": [
    "check_bin_vm_soma(target,opt)"
   ]
  },
  {
   "cell_type": "code",
   "execution_count": null,
   "metadata": {},
   "outputs": [],
   "source": [
    "\n",
    "opt.attrs"
   ]
  },
  {
   "cell_type": "code",
   "execution_count": null,
   "metadata": {},
   "outputs": [],
   "source": []
  },
  {
   "cell_type": "code",
   "execution_count": null,
   "metadata": {},
   "outputs": [],
   "source": []
  }
 ],
 "metadata": {
  "kernelspec": {
   "display_name": "Python 3",
   "language": "python",
   "name": "python3"
  },
  "language_info": {
   "codemirror_mode": {
    "name": "ipython",
    "version": 3
   },
   "file_extension": ".py",
   "mimetype": "text/x-python",
   "name": "python",
   "nbconvert_exporter": "python",
   "pygments_lexer": "ipython3",
   "version": "3.7.4"
  }
 },
 "nbformat": 4,
 "nbformat_minor": 2
}
