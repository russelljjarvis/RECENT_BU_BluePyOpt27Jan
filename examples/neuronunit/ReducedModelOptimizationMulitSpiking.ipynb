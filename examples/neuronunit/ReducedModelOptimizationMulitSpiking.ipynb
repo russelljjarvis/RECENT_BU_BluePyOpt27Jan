{
 "cells": [
  {
   "cell_type": "code",
   "execution_count": 1,
   "metadata": {},
   "outputs": [
    {
     "name": "stderr",
     "output_type": "stream",
     "text": [
      "test\n"
     ]
    }
   ],
   "source": [
    "%matplotlib inline\n",
    "SILENT = True\n",
    "import warnings\n",
    "if SILENT:\n",
    "    warnings.filterwarnings(\"ignore\")\n",
    "import matplotlib\n",
    "matplotlib.use('Agg')\n",
    "from neuronunit.plotting.plot_utils import check_bin_vm_soma\n",
    "from nb_utils import optimize_job\n",
    "from sciunit.scores import RelativeDifferenceScore\n",
    "import pandas as pd\n",
    "from neuronunit.optimization.optimization_management import basic_expVar\n",
    "\n",
    "efel_filter_list = [\n",
    "    \"ISI_log_slope\",\n",
    "    \"mean_frequency\",\n",
    "    \"adaptation_index2\",\n",
    "    \"first_isi\",\n",
    "    \"ISI_CV\",\n",
    "    \"median_isi\",\n",
    "    \"Spikecount\",\n",
    "    \"all_ISI_values\",\n",
    "    \"ISI_values\",\n",
    "    \"time_to_first_spike\",\n",
    "    \"time_to_last_spike\",\n",
    "    \"time_to_second_spike\",\n",
    "    'peak_voltage',\n",
    "    \"peak_voltage\",\n",
    "    \"base_voltage\",\n",
    "    \"AHP_depth\",\n",
    "    \"AHP_depth_abs\",\n",
    "    \"base_voltage\"]\n"
   ]
  },
  {
   "cell_type": "code",
   "execution_count": 2,
   "metadata": {},
   "outputs": [],
   "source": [
    "def test_opt_relative_diff(specimen_id,model_type = \"ADEXP\",efel_filter_list=None):    \n",
    "    _,scores,obs_preds,opt,target = optimize_job(specimen_id,\n",
    "                                                 model_type,\n",
    "                                                 score_type=RelativeDifferenceScore,\n",
    "                                                 efel_filter_list=efel_filter_list)\n",
    "    return obs_preds,opt,target\n"
   ]
  },
  {
   "cell_type": "code",
   "execution_count": null,
   "metadata": {
    "slideshow": {
     "slide_type": "slide"
    }
   },
   "outputs": [
    {
     "name": "stderr",
     "output_type": "stream",
     "text": [
      "gen\tnevals\tavg    \tstd    \tmin    \tmax  \n",
      "1  \t20    \t5995.93\t8103.59\t33.5067\t22000\n"
     ]
    },
    {
     "data": {
      "application/vnd.jupyter.widget-view+json": {
       "model_id": "6f29ef4904f446b698f29844ecb8eb5f",
       "version_major": 2,
       "version_minor": 0
      },
      "text/plain": [
       "HBox(children=(FloatProgress(value=0.0), HTML(value='')))"
      ]
     },
     "metadata": {},
     "output_type": "display_data"
    },
    {
     "name": "stderr",
     "output_type": "stream",
     "text": [
      "2  \t11    \t6000.42\t8234.61\t31.7359\t22000\n",
      "3  \t3     \t35.7763\t2.81983\t31.7359\t40.3686\n",
      "4  \t0     \t33.3446\t1.46855\t31.7359\t34.6852\n",
      "5  \t2     \t32.5376\t1.99233\t28.2116\t35.2312\n",
      "6  \t3     \t31.6035\t2.65222\t28.2116\t35.2312\n",
      "7  \t1     \t31.8677\t2.48511\t28.2116\t34.6852\n",
      "8  \t2     \t31.5145\t3.11333\t28.2116\t36.0908\n",
      "9  \t2     \t32.0993\t2.44464\t28.2116\t34.6852\n",
      "10 \t2     \t34.0967\t1.86103\t28.2116\t34.6852\n",
      "11 \t2     \t32.9197\t2.88309\t28.2116\t34.6852\n",
      "12 \t2     \t31.7426\t3.2234 \t28.2116\t34.6852\n",
      "13 \t4     \t30.6467\t4.08396\t28.2116\t38.8569\n",
      "14 \t2     \t29.9693\t3.72879\t28.2116\t37.8793\n",
      "15 \t2     \t33.053 \t5.30839\t24.0222\t37.8793\n",
      "16 \t4     \t27.1723\t1.7196 \t24.0222\t28.2116\n",
      "17 \t4     \t24.4508\t1.22936\t21.376 \t26.489 \n",
      "18 \t3     \t24.4348\t2.12403\t21.376 \t27.376 \n",
      "19 \t4     \t24.4533\t1.96153\t21.376 \t27.376 \n",
      "20 \t0     \t23.9886\t1.23635\t21.376 \t26.0451\n",
      "21 \t2     \t24.5877\t1.66322\t21.376 \t26.7758\n",
      "22 \t2     \t23.9951\t1.02161\t21.376 \t25.2802\n",
      "23 \t2     \t23.4924\t1.46863\t21.376 \t24.7537\n",
      "24 \t2     \t22.8121\t1.1183 \t21.376 \t24.7537\n",
      "25 \t3     \t23.248 \t1.60035\t21.376 \t25.4434\n",
      "26 \t2     \t47.7346\t77.0063\t20.7179\t291.189\n",
      "27 \t2     \t167.336\t133.825\t20.3256\t291.189\n",
      "28 \t2     \t71.0552\t103.793\t20.3256\t291.189\n",
      "29 \t2     \t138.242\t296.588\t20.3256\t1043.65\n"
     ]
    }
   ],
   "source": [
    "\n",
    "obs_preds,opt,target = test_opt_relative_diff(specimen_id = 325479788,efel_filter_list=efel_filter_list)\n"
   ]
  },
  {
   "cell_type": "code",
   "execution_count": null,
   "metadata": {},
   "outputs": [],
   "source": [
    "\n",
    "check_bin_vm_soma(target,opt)"
   ]
  },
  {
   "cell_type": "code",
   "execution_count": null,
   "metadata": {},
   "outputs": [],
   "source": [
    "exp_var = basic_expVar(target.vm_soma,opt.vm_soma)\n",
    "print(exp_var)\n",
    "opt.attrs"
   ]
  },
  {
   "cell_type": "code",
   "execution_count": null,
   "metadata": {},
   "outputs": [],
   "source": [
    "df = pd.DataFrame(obs_preds)\n",
    "df"
   ]
  },
  {
   "cell_type": "code",
   "execution_count": null,
   "metadata": {},
   "outputs": [],
   "source": [
    "obs_preds,opt,target = test_opt_relative_diff(specimen_id = 325479788,model_type=\"IZHI\",efel_filter_list=efel_filter_list)"
   ]
  },
  {
   "cell_type": "code",
   "execution_count": null,
   "metadata": {},
   "outputs": [],
   "source": [
    "\n",
    "df = pd.DataFrame(obs_preds)\n",
    "df"
   ]
  },
  {
   "cell_type": "code",
   "execution_count": null,
   "metadata": {},
   "outputs": [],
   "source": [
    "check_bin_vm_soma(target,opt)"
   ]
  },
  {
   "cell_type": "code",
   "execution_count": null,
   "metadata": {},
   "outputs": [],
   "source": [
    "exp_var = basic_expVar(target.vm_soma,opt.vm_soma)\n",
    "print(exp_var)\n",
    "opt.attrs"
   ]
  }
 ],
 "metadata": {
  "kernelspec": {
   "display_name": "Python 3",
   "language": "python",
   "name": "python3"
  },
  "language_info": {
   "codemirror_mode": {
    "name": "ipython",
    "version": 3
   },
   "file_extension": ".py",
   "mimetype": "text/x-python",
   "name": "python",
   "nbconvert_exporter": "python",
   "pygments_lexer": "ipython3",
   "version": "3.7.4"
  }
 },
 "nbformat": 4,
 "nbformat_minor": 2
}
