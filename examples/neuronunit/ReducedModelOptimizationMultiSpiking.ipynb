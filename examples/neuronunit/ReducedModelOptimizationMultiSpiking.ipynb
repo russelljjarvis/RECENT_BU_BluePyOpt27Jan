{
 "cells": [
  {
   "cell_type": "code",
   "execution_count": 1,
   "metadata": {},
   "outputs": [
    {
     "name": "stderr",
     "output_type": "stream",
     "text": [
      "test\n"
     ]
    }
   ],
   "source": [
    "%matplotlib inline\n",
    "SILENT = True\n",
    "import warnings\n",
    "if SILENT:\n",
    "    warnings.filterwarnings(\"ignore\")\n",
    "import matplotlib\n",
    "matplotlib.use('Agg')\n",
    "from neuronunit.plotting.plot_utils import check_bin_vm_soma\n",
    "from nb_utils import optimize_job\n",
    "from sciunit.scores import RelativeDifferenceScore\n",
    "import pandas as pd\n",
    "\n",
    "efel_filter_list = [\n",
    "    \"ISI_log_slope\",\n",
    "    \"mean_frequency\",\n",
    "    \"adaptation_index2\",\n",
    "    \"first_isi\",\n",
    "    \"ISI_CV\",\n",
    "    \"median_isi\",\n",
    "    \"Spikecount\",\n",
    "    \"all_ISI_values\",\n",
    "    \"ISI_values\",\n",
    "    \"time_to_first_spike\",\n",
    "    \"time_to_last_spike\",\n",
    "    \"time_to_second_spike\",\n",
    "    'peak_voltage',\n",
    "    \"peak_voltage\",\n",
    "    \"base_voltage\",\n",
    "    \"AHP_depth\",\n",
    "    \"AHP_depth_abs\"]\n"
   ]
  },
  {
   "cell_type": "code",
   "execution_count": 2,
   "metadata": {},
   "outputs": [],
   "source": [
    "def test_opt_relative_diff(specimen_id,model_type = \"ADEXP\",efel_filter_list=None):    \n",
    "    _,scores,obs_preds,opt,target = optimize_job(specimen_id,\n",
    "                                                 model_type,\n",
    "                                                 score_type=RelativeDifferenceScore,\n",
    "                                                 efel_filter_list=efel_filter_list)\n",
    "    return obs_preds,opt,target\n"
   ]
  },
  {
   "cell_type": "code",
   "execution_count": null,
   "metadata": {
    "slideshow": {
     "slide_type": "slide"
    }
   },
   "outputs": [
    {
     "name": "stderr",
     "output_type": "stream",
     "text": [
      "gen\tnevals\tavg   \tstd    \tmin    \tmax  \n",
      "1  \t100   \t5031.7\t7873.17\t22.1244\t22000\n"
     ]
    },
    {
     "data": {
      "application/vnd.jupyter.widget-view+json": {
       "model_id": "a55b181c5f8a46a284fac29ce6b17e54",
       "version_major": 2,
       "version_minor": 0
      },
      "text/plain": [
       "HBox(children=(FloatProgress(value=0.0), HTML(value='')))"
      ]
     },
     "metadata": {},
     "output_type": "display_data"
    },
    {
     "name": "stderr",
     "output_type": "stream",
     "text": [
      "2  \t65    \t5255.94\t7960.74\t22.0913\t22000\n",
      "3  \t19    \t1047.44\t4003.63\t22.0913\t22000\n",
      "4  \t14    \t27.8995\t5.41654\t18.3381\t37.8374\n",
      "5  \t21    \t580.762\t3201.84\t18.3381\t22000  \n",
      "6  \t22    \t969.272\t4142.11\t18.3381\t22000  \n",
      "7  \t18    \t27.5775\t14.7504\t18.3381\t135.475\n",
      "8  \t24    \t30.4186\t4.94647\t18.3381\t41.1284\n",
      "9  \t13    \t163.088\t1093.96\t18.3381\t9050.39\n",
      "10 \t23    \t505.285\t2743.77\t18.3381\t18015.5\n",
      "11 \t14    \t193.537\t1351.97\t14.7416\t11175.6\n",
      "12 \t17    \t231.45 \t1698.85\t14.7416\t14033  \n",
      "13 \t17    \t246.981\t1817.66\t14.7416\t15013.6\n",
      "14 \t26    \t468.03 \t2645.55\t14.7416\t19014.8\n",
      "15 \t12    \t228.638\t1698.94\t14.7416\t14030.8\n",
      "16 \t22    \t308.904\t2302.55\t14.7416\t19014.8\n",
      "17 \t28    \t19.8744\t5.96013\t14.7416\t39.3938\n",
      "18 \t24    \t192.816\t1381.06\t12.3314\t11412.5\n",
      "19 \t21    \t19.6754\t4.27987\t11.5478\t39.0887\n",
      "20 \t22    \t20.5405\t5.44422\t11.5478\t40.2953\n",
      "21 \t22    \t21.0448\t5.98917\t11.5478\t39.1191\n",
      "22 \t26    \t22.1397\t5.23433\t11.5478\t37.4147\n",
      "23 \t15    \t65.2063\t365.35 \t11.5478\t3032.94\n",
      "24 \t18    \t18.4069\t5.05649\t9.2844 \t28.4807\n",
      "25 \t20    \t21.2403\t5.33473\t9.2844 \t34.4872\n",
      "26 \t19    \t21.4072\t4.99855\t9.2844 \t31.3136\n",
      "27 \t22    \t20.2145\t5.46239\t9.2844 \t41.2973\n",
      "28 \t22    \t19.6591\t5.49703\t9.2844 \t39.3605\n",
      "29 \t24    \t20.956 \t4.93936\t9.2844 \t33.7617\n",
      "30 \t21    \t305.302\t2302.99\t9.2844 \t19014.8\n",
      "31 \t24    \t17.2321\t4.08337\t9.2844 \t24.0367\n",
      "32 \t15    \t139.039\t682.361\t9.2844 \t4031.27\n",
      "33 \t20    \t18.2355\t5.89949\t9.2844 \t40.9475\n",
      "34 \t18    \t20.1019\t4.88076\t9.2844 \t28.0726\n",
      "35 \t12    \t19.5763\t5.22373\t9.2844 \t36.3379\n",
      "36 \t24    \t17.9028\t5.09122\t9.2844 \t27.8029\n",
      "37 \t20    \t19.9789\t5.8759 \t9.2844 \t31.6524\n",
      "38 \t10    \t20.8773\t6.66119\t9.2844 \t36.8187\n",
      "39 \t13    \t21.0467\t5.30834\t9.2844 \t34.8631\n",
      "40 \t19    \t20.6364\t5.56681\t9.2844 \t41.6567\n",
      "41 \t19    \t20.6707\t5.24153\t9.2844 \t33.6221\n",
      "42 \t26    \t348    \t2665.18\t9.2844 \t22000  \n",
      "43 \t22    \t18.3431\t6.16639\t9.2844 \t30.2943\n",
      "44 \t20    \t20.0118\t5.82906\t9.2844 \t35.2761\n",
      "45 \t18    \t21.3383\t7.61422\t9.2844 \t40.3262\n",
      "46 \t22    \t80.6008\t486.122\t9.2844 \t4029.56\n",
      "47 \t15    \t17.5084\t5.30148\t9.2844 \t30.1932\n",
      "48 \t23    \t20.4344\t5.40997\t9.2844 \t36.4038\n",
      "49 \t17    \t18.332 \t5.37905\t9.2844 \t30.1768\n",
      "50 \t24    \t21.4645\t5.92455\t9.2844 \t35.5934\n",
      "51 \t26    \t19.6979\t5.63913\t9.2844 \t32.9925\n",
      "52 \t28    \t22.2359\t5.71512\t9.2844 \t33.476 \n",
      "53 \t21    \t18.5104\t5.86345\t9.2844 \t29.8143\n",
      "54 \t23    \t18.7061\t5.77479\t9.2844 \t30.7075\n",
      "55 \t19    \t16.5932\t4.27999\t8.55496\t26.6539\n",
      "56 \t18    \t17.0484\t6.58342\t8.55496\t44.5338\n",
      "57 \t19    \t300.328\t2303.6 \t8.55496\t19014.8\n"
     ]
    }
   ],
   "source": [
    "\n",
    "obs_preds,opt,target = test_opt_relative_diff(specimen_id = 325479788,efel_filter_list=efel_filter_list)\n"
   ]
  },
  {
   "cell_type": "code",
   "execution_count": null,
   "metadata": {},
   "outputs": [],
   "source": [
    "\n",
    "check_bin_vm_soma(target,opt)"
   ]
  },
  {
   "cell_type": "code",
   "execution_count": null,
   "metadata": {},
   "outputs": [],
   "source": [
    "df = pd.DataFrame(obs_preds)\n",
    "df"
   ]
  },
  {
   "cell_type": "code",
   "execution_count": null,
   "metadata": {},
   "outputs": [],
   "source": [
    "obs_preds,opt,target = test_opt_relative_diff(specimen_id = 325479788,model_type=\"IZHI\",efel_filter_list=efel_filter_list)"
   ]
  },
  {
   "cell_type": "code",
   "execution_count": null,
   "metadata": {},
   "outputs": [],
   "source": [
    "\n",
    "df = pd.DataFrame(obs_preds)\n",
    "df"
   ]
  },
  {
   "cell_type": "code",
   "execution_count": null,
   "metadata": {},
   "outputs": [],
   "source": [
    "check_bin_vm_soma(target,opt)"
   ]
  },
  {
   "cell_type": "code",
   "execution_count": null,
   "metadata": {},
   "outputs": [],
   "source": []
  }
 ],
 "metadata": {
  "kernelspec": {
   "display_name": "Python 3",
   "language": "python",
   "name": "python3"
  },
  "language_info": {
   "codemirror_mode": {
    "name": "ipython",
    "version": 3
   },
   "file_extension": ".py",
   "mimetype": "text/x-python",
   "name": "python",
   "nbconvert_exporter": "python",
   "pygments_lexer": "ipython3",
   "version": "3.7.4"
  }
 },
 "nbformat": 4,
 "nbformat_minor": 2
}
